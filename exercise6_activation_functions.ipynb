{
 "cells": [
  {
   "cell_type": "markdown",
   "metadata": {},
   "source": [
    "The exercise will focus on changing the `Activation Function`"
   ]
  },
  {
   "cell_type": "code",
   "execution_count": 1,
   "metadata": {},
   "outputs": [],
   "source": [
    "import torch"
   ]
  },
  {
   "cell_type": "code",
   "execution_count": 2,
   "metadata": {},
   "outputs": [],
   "source": [
    "# Define data\n",
    "x_data = torch.tensor([[1.], [2.], [3.], [4.]], dtype=torch.float)\n",
    "y_data = torch.tensor([[0.], [0.], [1.], [1.]], dtype=torch.float)"
   ]
  },
  {
   "cell_type": "code",
   "execution_count": 25,
   "metadata": {},
   "outputs": [],
   "source": [
    "# 1. Design model class\n",
    "class Model(torch.nn.Module):\n",
    "    def __init__(self):\n",
    "        super().__init__()\n",
    "        self.linear = torch.nn.Linear(1, 1)\n",
    "#         self.activation_fn = torch.nn.Sigmoid()\n",
    "#         self.activation_fn = torch.nn.Tanh() # RuntimeError: Assertion `x >= 0. && x <= 1.' failed. input value should be between 0~1, but got -0.146845 at /opt/conda/conda-bld/pytorch_1535491974311/work/aten/src/THNN/generic/BCECriterion.c:62\n",
    "#         self.activation_fn = torch.nn.Hardtanh() # RuntimeError: Assertion `x >= 0. && x <= 1.' failed. input value should be between 0~1, but got -1.000000 at /opt/conda/conda-bld/pytorch_1535491974311/work/aten/src/THNN/generic/BCECriterion.c:62\n",
    "#         self.activation_fn = torch.nn.Threshold(0.1, 1) # RuntimeError: Assertion `x >= 0. && x <= 1.' failed. input value should be between 0~1, but got 1.245499 at /opt/conda/conda-bld/pytorch_1535491974311/work/aten/src/THNN/generic/BCECriterion.c:62\n",
    "        self.activation_fn = torch.nn.LeakyReLU(-0.1) # RuntimeError: Assertion `x >= 0. && x <= 1.' failed. input value should be between 0~1, but got 1.205744 at /opt/conda/conda-bld/pytorch_1535491974311/work/aten/src/THNN/generic/BCECriterion.c:62\n",
    "\n",
    "    def forward(self, x):\n",
    "        x = self.linear(x)\n",
    "        y_pred = self.activation_fn(x)\n",
    "        return y_pred"
   ]
  },
  {
   "cell_type": "code",
   "execution_count": 26,
   "metadata": {},
   "outputs": [],
   "source": [
    "# 2. Construct loss & optimizer\n",
    "model = Model()\n",
    "# criterion = torch.nn.BCELoss()\n",
    "criterion = torch.nn.BCEWithLogitsLoss()\n",
    "optimizer = torch.optim.SGD(model.parameters(), lr=1e-2)"
   ]
  },
  {
   "cell_type": "code",
   "execution_count": 27,
   "metadata": {},
   "outputs": [],
   "source": [
    "# 3. Training\n",
    "for t in range(1000):\n",
    "    # Forward pass: Compute predicted y by passing x to the model\n",
    "    y_pred = model(x_data)\n",
    "\n",
    "    # Compute and print loss\n",
    "    loss = criterion(y_pred, y_data)\n",
    "#     print(t, loss.item())\n",
    "\n",
    "    # Zero gradients, perform a backward pass, and update the weights.\n",
    "    optimizer.zero_grad()\n",
    "    loss.backward()\n",
    "    optimizer.step()"
   ]
  },
  {
   "cell_type": "code",
   "execution_count": 28,
   "metadata": {},
   "outputs": [
    {
     "name": "stdout",
     "output_type": "stream",
     "text": [
      "predict 1 hour: False\n"
     ]
    }
   ],
   "source": [
    "# After training\n",
    "hour_var = torch.tensor([[1.]])\n",
    "ans = bool(model.forward(hour_var).data[0][0] > 0.5)\n",
    "print(f\"predict 1 hour: {ans}\")\n",
    "assert False is ans"
   ]
  },
  {
   "cell_type": "code",
   "execution_count": 29,
   "metadata": {},
   "outputs": [
    {
     "name": "stdout",
     "output_type": "stream",
     "text": [
      "predict 1 hour: True\n"
     ]
    }
   ],
   "source": [
    "hour_var = torch.tensor([[7.]])\n",
    "ans = bool(model.forward(hour_var).data[0][0] > 0.5)\n",
    "print(f\"predict 1 hour: {ans}\")\n",
    "assert True is ans"
   ]
  },
  {
   "cell_type": "markdown",
   "metadata": {},
   "source": [
    "**BCELoss() + Sigmoid() -> Correct all**<br>\n",
    "BCEWithLogitsLoss() + Sigmoid() -> 7 hours wrong prediction<br>\n",
    "BCEWithLogitsLoss() + Tanh() -> 7 hours wrong prediction<br>\n",
    "**BCEWithLogitsLoss() + Hardtanh() -> Correct all**<br>\n",
    "BCEWithLogitsLoss() + Threshold(0.1, 1) -> 7hr wrong<br>\n",
    "**BCEWithLogitsLoss() + LeakyReLU(-0.1) -> Correct all**<br>"
   ]
  },
  {
   "cell_type": "code",
   "execution_count": null,
   "metadata": {},
   "outputs": [],
   "source": []
  }
 ],
 "metadata": {
  "kernelspec": {
   "display_name": "Python 3",
   "language": "python",
   "name": "python3"
  },
  "language_info": {
   "codemirror_mode": {
    "name": "ipython",
    "version": 3
   },
   "file_extension": ".py",
   "mimetype": "text/x-python",
   "name": "python",
   "nbconvert_exporter": "python",
   "pygments_lexer": "ipython3",
   "version": "3.6.6"
  }
 },
 "nbformat": 4,
 "nbformat_minor": 2
}
