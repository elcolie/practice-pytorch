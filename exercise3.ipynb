{
 "cells": [
  {
   "cell_type": "code",
   "execution_count": 1,
   "metadata": {},
   "outputs": [],
   "source": [
    "import pandas as pd\n",
    "import matplotlib.pyplot as plt\n",
    "import numpy as np\n",
    "import random\n",
    "random.seed(a=111)"
   ]
  },
  {
   "cell_type": "markdown",
   "metadata": {},
   "source": [
    "Exercise 3-1: computer gradient\n",
    "$$\\hat y = x^2 w_2 + x w_1 + b$$\n",
    "And loss function is\n",
    "$$loss = (\\hat y - y ) ^2$$\n",
    "Find the derivative w.r.t. w\n",
    "$$\\displaystyle{\\frac{\\partial loss}{\\partial w_1}} = ?$$\n",
    "$$\\displaystyle{\\frac{\\partial loss}{\\partial w_2}} = ?$$"
   ]
  },
  {
   "cell_type": "markdown",
   "metadata": {},
   "source": [
    "Answer:\n",
    "$$\\displaystyle{\\frac{\\partial loss}{\\partial w_1}} = x$$\n",
    "$$\\displaystyle{\\frac{\\partial loss}{\\partial w_2}} = x^2$$"
   ]
  },
  {
   "cell_type": "markdown",
   "metadata": {},
   "source": [
    "Exercise 3-2: Implement\n",
    "$$\\hat y = x^2 w_2 + x w_1 + b$$\n",
    "And loss function is\n",
    "$$loss = (\\hat y - y ) ^2$$\n",
    "Then update gradient automatically"
   ]
  },
  {
   "cell_type": "code",
   "execution_count": 2,
   "metadata": {},
   "outputs": [
    {
     "data": {
      "text/plain": [
       "<matplotlib.collections.PathCollection at 0x7fb71d3c72e8>"
      ]
     },
     "execution_count": 2,
     "metadata": {},
     "output_type": "execute_result"
    },
    {
     "data": {
      "image/png": "[encoded data removed]",
      "text/plain": [
       "<Figure size 432x288 with 1 Axes>"
      ]
     },
     "metadata": {
      "needs_background": "light"
     },
     "output_type": "display_data"
    }
   ],
   "source": [
    "x = [1.0, 2.0, 3.0]\n",
    "y = [2.0, 4.0, 6.0]\n",
    "data = {'x': x, 'y': y}\n",
    "df = pd.DataFrame(data=data)\n",
    "plt.scatter(df.x, df.y)"
   ]
  },
  {
   "cell_type": "code",
   "execution_count": null,
   "metadata": {},
   "outputs": [],
   "source": []
  },
  {
   "cell_type": "code",
   "execution_count": 52,
   "metadata": {},
   "outputs": [],
   "source": []
  },
  {
   "cell_type": "code",
   "execution_count": null,
   "metadata": {},
   "outputs": [],
   "source": []
  },
  {
   "cell_type": "code",
   "execution_count": 7,
   "metadata": {},
   "outputs": [],
   "source": [
    "w1 = .0\n",
    "w2 = .0\n",
    "B = .001\n",
    "lr = 0.0001\n",
    "def forward(x, w1 ,w2):\n",
    "    return x * x * w2 + x * w1 + B\n",
    "\n",
    "def loss(x, y, w1, w2):\n",
    "    y_pred = forward(x, w1, w2)\n",
    "    ans = (y_pred - y ) * (y_pred - y )\n",
    "    return ans"
   ]
  },
  {
   "cell_type": "code",
   "execution_count": 8,
   "metadata": {},
   "outputs": [
    {
     "name": "stdout",
     "output_type": "stream",
     "text": [
      "MSE: 9.317740753333334 \t (w1, w2) = (0.0006000000000000001,0.0014000000000000002)\n",
      "MSE: 7.466824753333334 \t (w1, w2) = (0.030599999999999995,0.07139999999999998)\n",
      "MSE: 5.830575419999999 \t (w1, w2) = (0.060600000000000154,0.14140000000000008)\n",
      "MSE: 4.4089927533333215 \t (w1, w2) = (0.09060000000000032,0.2114000000000007)\n",
      "MSE: 3.202076753333314 \t (w1, w2) = (0.12060000000000048,0.2814000000000013)\n",
      "MSE: 2.209827419999979 \t (w1, w2) = (0.15060000000000007,0.35140000000000193)\n",
      "MSE: 1.432244753333314 \t (w1, w2) = (0.18059999999999954,0.42140000000000255)\n",
      "MSE: 0.8693287533333186 \t (w1, w2) = (0.210599999999999,0.49140000000000317)\n",
      "MSE: 0.5210794199999986 \t (w1, w2) = (0.24059999999999848,0.5614000000000013)\n",
      "MSE: 0.3874967533333346 \t (w1, w2) = (0.27059999999999795,0.6313999999999992)\n",
      "MSE: 0.46858075333332483 \t (w1, w2) = (0.3005999999999974,0.701399999999997)\n",
      "MSE: 0.7643314199999695 \t (w1, w2) = (0.3305999999999969,0.7713999999999949)\n",
      "MSE: 1.2747487533332678 \t (w1, w2) = (0.36059999999999637,0.8413999999999927)\n",
      "MSE: 1.9998327533332192 \t (w1, w2) = (0.39059999999999584,0.9113999999999906)\n",
      "MSE: 2.939583419999826 \t (w1, w2) = (0.4205999999999953,0.9813999999999884)\n",
      "MSE: 4.094000753333026 \t (w1, w2) = (0.4505999999999948,1.0513999999999821)\n"
     ]
    },
    {
     "data": {
      "image/png": "[encoded data removed]",
      "text/plain": [
       "<Figure size 432x288 with 1 Axes>"
      ]
     },
     "metadata": {
      "needs_background": "light"
     },
     "output_type": "display_data"
    }
   ],
   "source": [
    "mse_list = []\n",
    "epoches = []\n",
    "SIZE = df.size\n",
    "for epoch in range(800):\n",
    "    l_sum = 0\n",
    "    for x_val, y_val in zip(df.x, df.y):\n",
    "        y_pred_val = forward(x_val, w1, w2)\n",
    "        l = loss(x_val, y_val, w1, w2)\n",
    "        l_sum += l\n",
    "        w1 += lr * x_val\n",
    "        w2 += lr * x_val * x_val\n",
    "    if epoch % 50 == 0:\n",
    "        print(f\"MSE: {l_sum/SIZE} \\t (w1, w2) = ({w1},{w2})\")\n",
    "    mse_list.append(l_sum/SIZE)\n",
    "    epoches.append(epoch)\n",
    "plt.plot(epoches, mse_list)\n",
    "plt.ylabel('Loss')\n",
    "plt.xlabel('epoch')\n",
    "plt.show()"
   ]
  },
  {
   "cell_type": "code",
   "execution_count": null,
   "metadata": {},
   "outputs": [],
   "source": []
  },
  {
   "cell_type": "code",
   "execution_count": null,
   "metadata": {},
   "outputs": [],
   "source": []
  }
 ],
 "metadata": {
  "kernelspec": {
   "display_name": "Python 3",
   "language": "python",
   "name": "python3"
  },
  "language_info": {
   "codemirror_mode": {
    "name": "ipython",
    "version": 3
   },
   "file_extension": ".py",
   "mimetype": "text/x-python",
   "name": "python",
   "nbconvert_exporter": "python",
   "pygments_lexer": "ipython3",
   "version": "3.6.6"
  }
 },
 "nbformat": 4,
 "nbformat_minor": 2
}
