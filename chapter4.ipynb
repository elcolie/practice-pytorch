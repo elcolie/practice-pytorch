{
 "cells": [
  {
   "cell_type": "code",
   "execution_count": 13,
   "metadata": {},
   "outputs": [],
   "source": [
    "import torch\n",
    "from torch.autograd import Variable"
   ]
  },
  {
   "cell_type": "code",
   "execution_count": 14,
   "metadata": {},
   "outputs": [],
   "source": [
    "x_data = [1.0, 2.0 ,3.0]\n",
    "y_data = [2.0, 4.0, 6.0]\n",
    "w = torch.tensor([1.0], requires_grad=True)\n",
    "lr = 0.01"
   ]
  },
  {
   "cell_type": "code",
   "execution_count": 15,
   "metadata": {},
   "outputs": [],
   "source": [
    "def forward(x):\n",
    "    return x * w\n",
    "def loss(x,y):\n",
    "    y_pred = forward(x)\n",
    "    return (y_pred - y) * (y_pred - y)"
   ]
  },
  {
   "cell_type": "code",
   "execution_count": 16,
   "metadata": {},
   "outputs": [
    {
     "name": "stdout",
     "output_type": "stream",
     "text": [
      "predict (before training), 4, tensor([4.], grad_fn=<MulBackward>)\n",
      "\tgrad: 1.0, 2.0, -2.0\n",
      "\tgrad: 2.0, 4.0, -7.840000152587891\n",
      "\tgrad: 3.0, 6.0, -16.228801727294922\n",
      "progress: 0, 7.315943717956543\n",
      "\tgrad: 1.0, 2.0, -1.478623867034912\n",
      "\tgrad: 2.0, 4.0, -5.796205520629883\n",
      "\tgrad: 3.0, 6.0, -11.998146057128906\n",
      "progress: 1, 3.9987640380859375\n",
      "\tgrad: 1.0, 2.0, -1.0931644439697266\n",
      "\tgrad: 2.0, 4.0, -4.285204887390137\n",
      "\tgrad: 3.0, 6.0, -8.870372772216797\n",
      "progress: 2, 2.1856532096862793\n",
      "\tgrad: 1.0, 2.0, -0.8081896305084229\n",
      "\tgrad: 2.0, 4.0, -3.1681032180786133\n",
      "\tgrad: 3.0, 6.0, -6.557973861694336\n",
      "progress: 3, 1.1946394443511963\n",
      "\tgrad: 1.0, 2.0, -0.5975041389465332\n",
      "\tgrad: 2.0, 4.0, -2.3422164916992188\n",
      "\tgrad: 3.0, 6.0, -4.848389625549316\n",
      "progress: 4, 0.6529689431190491\n",
      "\tgrad: 1.0, 2.0, -0.4417421817779541\n",
      "\tgrad: 2.0, 4.0, -1.7316293716430664\n",
      "\tgrad: 3.0, 6.0, -3.58447265625\n",
      "progress: 5, 0.35690122842788696\n",
      "\tgrad: 1.0, 2.0, -0.3265852928161621\n",
      "\tgrad: 2.0, 4.0, -1.2802143096923828\n",
      "\tgrad: 3.0, 6.0, -2.650045394897461\n",
      "progress: 6, 0.195076122879982\n",
      "\tgrad: 1.0, 2.0, -0.24144840240478516\n",
      "\tgrad: 2.0, 4.0, -0.9464778900146484\n",
      "\tgrad: 3.0, 6.0, -1.9592113494873047\n",
      "progress: 7, 0.10662525147199631\n",
      "\tgrad: 1.0, 2.0, -0.17850565910339355\n",
      "\tgrad: 2.0, 4.0, -0.699742317199707\n",
      "\tgrad: 3.0, 6.0, -1.4484672546386719\n",
      "progress: 8, 0.0582793727517128\n",
      "\tgrad: 1.0, 2.0, -0.1319713592529297\n",
      "\tgrad: 2.0, 4.0, -0.5173273086547852\n",
      "\tgrad: 3.0, 6.0, -1.070866584777832\n",
      "progress: 9, 0.03185431286692619\n",
      "predict 4, 7.804864406585693\n"
     ]
    }
   ],
   "source": [
    "# Predict before training\n",
    "print(f\"predict (before training), 4, {forward(4)}\")\n",
    "\n",
    "# Training loop\n",
    "for epoch in range(10):\n",
    "    for x_val, y_val in zip(x_data, y_data):\n",
    "        l = loss(x_val, y_val)\n",
    "        l.backward()\n",
    "        print(f\"\\tgrad: {x_val}, {y_val}, {w.grad.data[0]}\")\n",
    "        w.data = w.data - lr * w.grad.data\n",
    "        \n",
    "        w.grad.zero_()\n",
    "    print(f\"progress: {epoch}, {l.data[0]}\")\n",
    "        \n",
    "# After training\n",
    "print(f\"predict 4, {forward(4).data[0]}\")"
   ]
  },
  {
   "cell_type": "code",
   "execution_count": null,
   "metadata": {},
   "outputs": [],
   "source": []
  }
 ],
 "metadata": {
  "kernelspec": {
   "display_name": "Python 3",
   "language": "python",
   "name": "python3"
  },
  "language_info": {
   "codemirror_mode": {
    "name": "ipython",
    "version": 3
   },
   "file_extension": ".py",
   "mimetype": "text/x-python",
   "name": "python",
   "nbconvert_exporter": "python",
   "pygments_lexer": "ipython3",
   "version": "3.6.6"
  }
 },
 "nbformat": 4,
 "nbformat_minor": 2
}
