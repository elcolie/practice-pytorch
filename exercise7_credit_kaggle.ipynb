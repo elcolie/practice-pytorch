{
  "cells": [
    {
      "metadata": {
        "_uuid": "8f2839f25d086af736a60e9eeb907d3b93b6e0e5",
        "_cell_guid": "b1076dfc-b9ad-4769-8c92-a6c4dae69d19",
        "trusted": true
      },
      "cell_type": "code",
      "source": "# This Python 3 environment comes with many helpful analytics libraries installed\n# It is defined by the kaggle/python docker image: https://github.com/kaggle/docker-python\n# For example, here's several helpful packages to load in \n\nimport numpy as np # linear algebra\nimport pandas as pd # data processing, CSV file I/O (e.g. pd.read_csv)\n\n# Input data files are available in the \"../input/\" directory.\n# For example, running this (by clicking run or pressing Shift+Enter) will list the files in the input directory\n\nimport os\nprint(os.listdir(\"../input\"))\nprint(os.listdir(\".\"))\n\n# Any results you write to the current directory are saved as output.",
      "execution_count": 17,
      "outputs": [
        {
          "output_type": "stream",
          "text": "['creditcard.csv']\n['.ipynb_checkpoints', '__notebook_source__.ipynb']\n",
          "name": "stdout"
        }
      ]
    },
    {
      "metadata": {
        "trusted": true,
        "_uuid": "bba7693ff98db7c2abf63399e02b0fec3e585156"
      },
      "cell_type": "code",
      "source": "",
      "execution_count": 15,
      "outputs": [
        {
          "output_type": "stream",
          "text": "cuda\n",
          "name": "stdout"
        }
      ]
    },
    {
      "metadata": {
        "_cell_guid": "79c7e3d0-c299-4dcb-8224-4455121ee9b0",
        "_uuid": "d629ff2d2480ee46fbb7e2d37f6b5fab8052498a",
        "trusted": true
      },
      "cell_type": "code",
      "source": "import torch\nimport pandas as pd\nfrom torch.utils.data import Dataset, DataLoader\nimport matplotlib.pyplot as plt\nimport numpy as np\nimport torch.backends.cudnn as cudnn",
      "execution_count": 26,
      "outputs": []
    },
    {
      "metadata": {
        "trusted": true,
        "_uuid": "9c63ee784ebd5a10515255e846559107069e458d"
      },
      "cell_type": "code",
      "source": "device = 'cuda' if torch.cuda.is_available() else 'cpu'\nprint(device)",
      "execution_count": 18,
      "outputs": [
        {
          "output_type": "stream",
          "text": "cuda\n",
          "name": "stdout"
        }
      ]
    },
    {
      "metadata": {
        "trusted": true,
        "_uuid": "48deceacb10351afc1bef51884b30347628ed53f"
      },
      "cell_type": "code",
      "source": "# Data has strong bias\ndata = pd.read_csv('../input/creditcard.csv')\ncount_classes = pd.value_counts(data['Class'], sort = True).sort_index()\ncount_classes.plot(kind = 'bar')\nplt.title(\"Fraud class histogram\")\nplt.xlabel(\"Class\")\nplt.ylabel(\"Frequency\")",
      "execution_count": 19,
      "outputs": [
        {
          "output_type": "execute_result",
          "execution_count": 19,
          "data": {
            "text/plain": "Text(0,0.5,'Frequency')"
          },
          "metadata": {}
        },
        {
          "output_type": "display_data",
          "data": {
            "text/plain": "<Figure size 432x288 with 1 Axes>",
            "image/png": "[encoded data removed]"
          },
          "metadata": {
            "needs_background": "light"
          }
        }
      ]
    },
    {
      "metadata": {
        "trusted": true,
        "_uuid": "05a708e3e284f2b09a85b4c6c2fbc1d9cf6fdf17"
      },
      "cell_type": "code",
      "source": "class CreditDataset(Dataset):\n    def __init__(self, csv_file, transform=None):\n        data = pd.read_csv(csv_file)\n        self.len = data.shape[0]\n        self.x_data = data.drop(['Class'], axis=1)\n        self.y_data = data[['Class']]\n    def __len__(self):\n        return self.len\n    def __getitem__(self, index):\n        return torch.tensor(self.x_data.iloc[index].values), \\\n                torch.tensor(self.y_data.iloc[index].values, dtype=torch.float)",
      "execution_count": 20,
      "outputs": []
    },
    {
      "metadata": {
        "trusted": true,
        "_uuid": "be55f49314762947e3028c2d827aa26acfd9281c"
      },
      "cell_type": "code",
      "source": "train_dataset = CreditDataset(\"../input/creditcard.csv\")\ntrain_loader = DataLoader(dataset=train_dataset, batch_size=1, shuffle=True, num_workers=2)",
      "execution_count": 21,
      "outputs": []
    },
    {
      "metadata": {
        "trusted": true,
        "_uuid": "350030473dd34998aa82f90f5084596de1a1265a"
      },
      "cell_type": "code",
      "source": "# 1. Design Model\nclass Model(torch.nn.Module):\n    def __init__(self):\n        super().__init__()\n        self.l1 = torch.nn.Linear(30, 60)\n        self.l2 = torch.nn.Linear(60, 60)\n        self.l3 = torch.nn.Linear(60, 60)\n        self.l4 = torch.nn.Linear(60, 30)\n        self.l5 = torch.nn.Linear(30, 1)\n        self.activation_fn = torch.nn.Sigmoid()\n    def forward(self, x):\n        x = self.activation_fn(self.l1(x))\n        x = self.activation_fn(self.l2(x))\n        x = self.activation_fn(self.l3(x))\n        x = self.activation_fn(self.l4(x))\n        x = self.activation_fn(self.l5(x))\n        return x",
      "execution_count": 22,
      "outputs": []
    },
    {
      "metadata": {
        "trusted": true,
        "_uuid": "e925ded62b8b6b8a6a6a90d134b699ef11037c5a"
      },
      "cell_type": "code",
      "source": "# 2. Define loss and optimizer\nmodel = Model()\ncriterion = torch.nn.BCELoss()\noptimizer = torch.optim.Adam(model.parameters(), lr=0.001)",
      "execution_count": 23,
      "outputs": []
    },
    {
      "metadata": {
        "trusted": true,
        "_uuid": "1f94ad1f436d948ada3e1c9f349b688d30d4fdb9"
      },
      "cell_type": "code",
      "source": "model = model.to(device)\nif device == 'cuda':\n    model = torch.nn.DataParallel(model)\n    cudnn.benchmark = True",
      "execution_count": 27,
      "outputs": []
    },
    {
      "metadata": {
        "trusted": true,
        "_uuid": "6f8567b16fab06706a260951ece812d20fcee610"
      },
      "cell_type": "code",
      "source": "# 3. Training\nmodel.train()\nfor epoch in range(2):\n    for batch_idx, (data, target) in enumerate(train_loader):\n        data, target = data.float(), target.float() # Conver to float since double is slower on GPU\n        data, target = data.to(device), target.to(device)\n        optimizer.zero_grad()\n        output = model(data)\n        loss = criterion(output.float(), target)\n        loss.backward()\n        optimizer.step()\n        if batch_idx % 100 == 0:\n            print('Train Epoch: {} [{}/{} ({:.0f}%)]\\tLoss: {:.6f}'.format(\n                epoch, batch_idx * len(data), len(train_loader.dataset),\n                100. * batch_idx / len(train_loader), loss.item()))",
      "execution_count": null,
      "outputs": []
    },
    {
      "metadata": {
        "trusted": true,
        "_uuid": "34ace3ea6e1a68d5ecc4c6a884dbf107c2c308dc"
      },
      "cell_type": "code",
      "source": "",
      "execution_count": null,
      "outputs": []
    }
  ],
  "metadata": {
    "kernelspec": {
      "display_name": "Python 3",
      "language": "python",
      "name": "python3"
    },
    "language_info": {
      "name": "python",
      "version": "3.6.6",
      "mimetype": "text/x-python",
      "codemirror_mode": {
        "name": "ipython",
        "version": 3
      },
      "pygments_lexer": "ipython3",
      "nbconvert_exporter": "python",
      "file_extension": ".py"
    }
  },
  "nbformat": 4,
  "nbformat_minor": 1
}