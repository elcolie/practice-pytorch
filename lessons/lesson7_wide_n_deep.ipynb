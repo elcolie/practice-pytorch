{
 "cells": [
  {
   "cell_type": "markdown",
   "metadata": {},
   "source": [
    "**Lecture 7: wide and deep**<br>\n",
    "https://www.youtube.com/watch?v=Mf8jna42p2M&index=7&list=PLlMkM4tgfjnJ3I-dbhO9JTw7gNty6o_2m<br>\n",
    "Visualising<br>\n",
    "https://dashee87.github.io/deep%20learning/visualising-activation-functions-in-neural-networks/<br>"
   ]
  },
  {
   "cell_type": "code",
   "execution_count": null,
   "metadata": {},
   "outputs": [],
   "source": [
    "import torch"
   ]
  }
 ],
 "metadata": {
  "kernelspec": {
   "display_name": "Python 3",
   "language": "python",
   "name": "python3"
  },
  "language_info": {
   "codemirror_mode": {
    "name": "ipython",
    "version": 3
   },
   "file_extension": ".py",
   "mimetype": "text/x-python",
   "name": "python",
   "nbconvert_exporter": "python",
   "pygments_lexer": "ipython3",
   "version": "3.6.6"
  }
 },
 "nbformat": 4,
 "nbformat_minor": 2
}
