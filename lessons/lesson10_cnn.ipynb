{
 "cells": [
  {
   "cell_type": "markdown",
   "metadata": {},
   "source": [
    "# Lesson 10: CNN\n",
    "https://www.youtube.com/watch?v=LgFNRIFxuUo&list=PLlMkM4tgfjnJ3I-dbhO9JTw7gNty6o_2m&index=10"
   ]
  },
  {
   "cell_type": "code",
   "execution_count": 21,
   "metadata": {},
   "outputs": [],
   "source": [
    "import torch\n",
    "import torch.nn as nn\n",
    "import torch.nn.functional as F\n",
    "import torch.optim as optim\n",
    "from torchvision import datasets, transforms\n"
   ]
  },
  {
   "cell_type": "code",
   "execution_count": 22,
   "metadata": {},
   "outputs": [
    {
     "data": {
      "text/plain": [
       "<torch._C.Generator at 0x7fbf183bbf70>"
      ]
     },
     "execution_count": 22,
     "metadata": {},
     "output_type": "execute_result"
    }
   ],
   "source": [
    "torch.manual_seed(1249583)"
   ]
  },
  {
   "cell_type": "markdown",
   "metadata": {},
   "source": [
    "Define `Dataset`"
   ]
  },
  {
   "cell_type": "code",
   "execution_count": 23,
   "metadata": {},
   "outputs": [],
   "source": [
    "train_loader = torch.utils.data.DataLoader(\n",
    "        datasets.MNIST('../data', train=True, download=True,\n",
    "                       transform=transforms.Compose([\n",
    "                           transforms.ToTensor(),\n",
    "                           transforms.Normalize((0.1307,), (0.3081,))\n",
    "                       ])),\n",
    "        batch_size=10, shuffle=True)"
   ]
  },
  {
   "cell_type": "code",
   "execution_count": 24,
   "metadata": {},
   "outputs": [],
   "source": [
    "test_loader = torch.utils.data.DataLoader(\n",
    "        datasets.MNIST('../data', train=False, transform=transforms.Compose([\n",
    "                           transforms.ToTensor(),\n",
    "                           transforms.Normalize((0.1307,), (0.3081,))\n",
    "                       ])),\n",
    "        batch_size=1, shuffle=True)"
   ]
  },
  {
   "cell_type": "code",
   "execution_count": 30,
   "metadata": {},
   "outputs": [],
   "source": [
    "def train(model, device, train_loader, optimizer, epoch):\n",
    "    model.train()\n",
    "    for batch_idx, (data, target) in enumerate(train_loader):\n",
    "        data, target = data.to(device), target.to(device)\n",
    "        optimizer.zero_grad()\n",
    "        output = model(data)\n",
    "        loss = F.nll_loss(output, target)\n",
    "        loss.backward()\n",
    "        optimizer.step()\n",
    "        if batch_idx % 1000 == 0:\n",
    "            print('Train Epoch: {} [{}/{} ({:.0f}%)]\\tLoss: {:.6f}'.format(\n",
    "                epoch, batch_idx * len(data), len(train_loader.dataset),\n",
    "                100. * batch_idx / len(train_loader), loss.item()))\n",
    "\n",
    "def test(model, device, test_loader):\n",
    "    model.eval()\n",
    "    test_loss = 0\n",
    "    correct = 0\n",
    "    with torch.no_grad():\n",
    "        for data, target in test_loader:\n",
    "            data, target = data.to(device), target.to(device)\n",
    "            output = model(data)\n",
    "            test_loss += F.nll_loss(output, target, reduction='sum').item() # sum up batch loss\n",
    "            pred = output.max(1, keepdim=True)[1] # get the index of the max log-probability\n",
    "            correct += pred.eq(target.view_as(pred)).sum().item()\n",
    "\n",
    "    test_loss /= len(test_loader.dataset)\n",
    "\n",
    "    print('\\nTest set: Average loss: {:.4f}, Accuracy: {}/{} ({:.0f}%)\\n'.format(\n",
    "        test_loss, correct, len(test_loader.dataset),\n",
    "        100. * correct / len(test_loader.dataset)))"
   ]
  },
  {
   "cell_type": "markdown",
   "metadata": {},
   "source": [
    "# 1. Model"
   ]
  },
  {
   "cell_type": "code",
   "execution_count": 26,
   "metadata": {},
   "outputs": [],
   "source": [
    "class Net(torch.nn.Module):\n",
    "    def __init__(self):\n",
    "        super().__init__()\n",
    "        self.conv1 = nn.Conv2d(1, 10, kernel_size=5, stride=1) # in_channel is 1. Because it has 1 color\n",
    "        self.conv2 = nn.Conv2d(10, 20, kernel_size=5, stride=1)\n",
    "        \n",
    "        self.mp = nn.MaxPool2d(2)\n",
    "        self.fc = nn.Linear(320, 10)\n",
    "    def forward(self, x):\n",
    "        in_size = x.size(0)\n",
    "        x = F.relu(self.mp(self.conv1(x)))\n",
    "        x = F.relu(self.mp(self.conv2(x)))\n",
    "        x = x.view(in_size, -1) # flatten the tensor\n",
    "        x = self.fc(x)\n",
    "        return F.log_softmax(x, dim=1)"
   ]
  },
  {
   "cell_type": "code",
   "execution_count": 27,
   "metadata": {},
   "outputs": [],
   "source": [
    "model = Net()"
   ]
  },
  {
   "cell_type": "markdown",
   "metadata": {},
   "source": [
    "# 2. Loss & Optimizer\n",
    "criterion has been absorbed to the `train and test` functions already"
   ]
  },
  {
   "cell_type": "code",
   "execution_count": 28,
   "metadata": {},
   "outputs": [],
   "source": [
    "optimizer = optim.SGD(model.parameters(), lr=0.001 , momentum=0.1)"
   ]
  },
  {
   "cell_type": "markdown",
   "metadata": {},
   "source": [
    "# 3. Train"
   ]
  },
  {
   "cell_type": "code",
   "execution_count": 29,
   "metadata": {
    "scrolled": true
   },
   "outputs": [
    {
     "name": "stdout",
     "output_type": "stream",
     "text": [
      "Train Epoch: 1 [0/60000 (0%)]\tLoss: 2.244570\n",
      "Train Epoch: 1 [1000/60000 (2%)]\tLoss: 2.235052\n",
      "Train Epoch: 1 [2000/60000 (3%)]\tLoss: 2.192628\n",
      "Train Epoch: 1 [3000/60000 (5%)]\tLoss: 2.079259\n",
      "Train Epoch: 1 [4000/60000 (7%)]\tLoss: 1.862965\n",
      "Train Epoch: 1 [5000/60000 (8%)]\tLoss: 1.794037\n",
      "Train Epoch: 1 [6000/60000 (10%)]\tLoss: 1.414833\n",
      "Train Epoch: 1 [7000/60000 (12%)]\tLoss: 1.080190\n",
      "Train Epoch: 1 [8000/60000 (13%)]\tLoss: 0.758389\n",
      "Train Epoch: 1 [9000/60000 (15%)]\tLoss: 0.644825\n",
      "Train Epoch: 1 [10000/60000 (17%)]\tLoss: 0.503210\n",
      "Train Epoch: 1 [11000/60000 (18%)]\tLoss: 1.205046\n",
      "Train Epoch: 1 [12000/60000 (20%)]\tLoss: 0.486211\n",
      "Train Epoch: 1 [13000/60000 (22%)]\tLoss: 0.526567\n",
      "Train Epoch: 1 [14000/60000 (23%)]\tLoss: 0.531859\n",
      "Train Epoch: 1 [15000/60000 (25%)]\tLoss: 0.606589\n",
      "Train Epoch: 1 [16000/60000 (27%)]\tLoss: 0.183819\n",
      "Train Epoch: 1 [17000/60000 (28%)]\tLoss: 0.252317\n",
      "Train Epoch: 1 [18000/60000 (30%)]\tLoss: 0.688382\n",
      "Train Epoch: 1 [19000/60000 (32%)]\tLoss: 0.457156\n",
      "Train Epoch: 1 [20000/60000 (33%)]\tLoss: 0.787211\n",
      "Train Epoch: 1 [21000/60000 (35%)]\tLoss: 0.439925\n",
      "Train Epoch: 1 [22000/60000 (37%)]\tLoss: 0.649666\n",
      "Train Epoch: 1 [23000/60000 (38%)]\tLoss: 0.389052\n",
      "Train Epoch: 1 [24000/60000 (40%)]\tLoss: 0.277458\n",
      "Train Epoch: 1 [25000/60000 (42%)]\tLoss: 0.255565\n",
      "Train Epoch: 1 [26000/60000 (43%)]\tLoss: 0.456855\n",
      "Train Epoch: 1 [27000/60000 (45%)]\tLoss: 0.092167\n",
      "Train Epoch: 1 [28000/60000 (47%)]\tLoss: 0.217524\n",
      "Train Epoch: 1 [29000/60000 (48%)]\tLoss: 0.412580\n",
      "Train Epoch: 1 [30000/60000 (50%)]\tLoss: 0.914586\n",
      "Train Epoch: 1 [31000/60000 (52%)]\tLoss: 0.825028\n",
      "Train Epoch: 1 [32000/60000 (53%)]\tLoss: 0.203479\n",
      "Train Epoch: 1 [33000/60000 (55%)]\tLoss: 0.279713\n",
      "Train Epoch: 1 [34000/60000 (57%)]\tLoss: 0.223136\n",
      "Train Epoch: 1 [35000/60000 (58%)]\tLoss: 0.379070\n",
      "Train Epoch: 1 [36000/60000 (60%)]\tLoss: 0.182320\n",
      "Train Epoch: 1 [37000/60000 (62%)]\tLoss: 1.030827\n",
      "Train Epoch: 1 [38000/60000 (63%)]\tLoss: 0.192107\n",
      "Train Epoch: 1 [39000/60000 (65%)]\tLoss: 0.083073\n",
      "Train Epoch: 1 [40000/60000 (67%)]\tLoss: 0.257708\n",
      "Train Epoch: 1 [41000/60000 (68%)]\tLoss: 0.414199\n",
      "Train Epoch: 1 [42000/60000 (70%)]\tLoss: 0.255075\n",
      "Train Epoch: 1 [43000/60000 (72%)]\tLoss: 0.058589\n",
      "Train Epoch: 1 [44000/60000 (73%)]\tLoss: 0.790547\n",
      "Train Epoch: 1 [45000/60000 (75%)]\tLoss: 0.640969\n",
      "Train Epoch: 1 [46000/60000 (77%)]\tLoss: 0.732877\n",
      "Train Epoch: 1 [47000/60000 (78%)]\tLoss: 0.439335\n",
      "Train Epoch: 1 [48000/60000 (80%)]\tLoss: 1.348480\n",
      "Train Epoch: 1 [49000/60000 (82%)]\tLoss: 0.073116\n",
      "Train Epoch: 1 [50000/60000 (83%)]\tLoss: 0.399994\n",
      "Train Epoch: 1 [51000/60000 (85%)]\tLoss: 0.672291\n",
      "Train Epoch: 1 [52000/60000 (87%)]\tLoss: 0.062469\n",
      "Train Epoch: 1 [53000/60000 (88%)]\tLoss: 0.375920\n",
      "Train Epoch: 1 [54000/60000 (90%)]\tLoss: 0.223988\n",
      "Train Epoch: 1 [55000/60000 (92%)]\tLoss: 0.085402\n",
      "Train Epoch: 1 [56000/60000 (93%)]\tLoss: 0.162173\n",
      "Train Epoch: 1 [57000/60000 (95%)]\tLoss: 1.005924\n",
      "Train Epoch: 1 [58000/60000 (97%)]\tLoss: 0.389545\n",
      "Train Epoch: 1 [59000/60000 (98%)]\tLoss: 0.201714\n",
      "\n",
      "Test set: Average loss: 0.2287, Accuracy: 9322/10000 (93%)\n",
      "\n"
     ]
    }
   ],
   "source": [
    "for epoch in range(1, 1 + 1):\n",
    "    train(model, 'cpu', train_loader, optimizer, epoch)\n",
    "    test(model, 'cpu', test_loader)"
   ]
  },
  {
   "cell_type": "code",
   "execution_count": null,
   "metadata": {},
   "outputs": [],
   "source": []
  }
 ],
 "metadata": {
  "kernelspec": {
   "display_name": "Python 3",
   "language": "python",
   "name": "python3"
  },
  "language_info": {
   "codemirror_mode": {
    "name": "ipython",
    "version": 3
   },
   "file_extension": ".py",
   "mimetype": "text/x-python",
   "name": "python",
   "nbconvert_exporter": "python",
   "pygments_lexer": "ipython3",
   "version": "3.6.6"
  }
 },
 "nbformat": 4,
 "nbformat_minor": 2
}
