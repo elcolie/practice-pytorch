{
 "cells": [
  {
   "cell_type": "markdown",
   "metadata": {},
   "source": [
    "# README\n",
    "Do not blindly copy and paste. The parameter is hard-fixed with the `dataset`.<br>\n",
    "For example: `SEQUENCE_LENGTH`"
   ]
  },
  {
   "cell_type": "code",
   "execution_count": 1,
   "metadata": {},
   "outputs": [],
   "source": [
    "import torch\n",
    "import torch.nn as nn\n",
    "import torch.nn.functional as F\n",
    "import pandas as pd\n",
    "from torch.utils.data import Dataset, DataLoader\n",
    "from tqdm import tqdm_notebook as tqdm\n",
    "\n",
    "torch.manual_seed(1249583)\n",
    "\n",
    "# See the details in `Dataset` section\n",
    "SEQUENCE_LENGTH = 19\n",
    "COUNTRY_LENGTH = 18\n"
   ]
  },
  {
   "cell_type": "markdown",
   "metadata": {},
   "source": [
    "# Data Preparation"
   ]
  },
  {
   "cell_type": "markdown",
   "metadata": {},
   "source": [
    "<img src='lesson13_data.png'>"
   ]
  },
  {
   "cell_type": "code",
   "execution_count": 2,
   "metadata": {},
   "outputs": [],
   "source": [
    "def str2ascii_arr(name):\n",
    "    \"\"\"\n",
    "    0-255\n",
    "    \"\"\"\n",
    "    arr = [ord(c) for c in name]\n",
    "    return arr, len(arr)"
   ]
  },
  {
   "cell_type": "code",
   "execution_count": 3,
   "metadata": {},
   "outputs": [],
   "source": [
    "class RNNClassifier(nn.Module):\n",
    "    def __init__(self, input_size=256, hidden_size=256, output_size=18, n_layers=1):\n",
    "        \"\"\"\n",
    "        Because word embedding is working with ascii. It has to use `input_size=256, hidden_size=256`\n",
    "        \"\"\"\n",
    "        super().__init__()\n",
    "        self.hidden_size = hidden_size\n",
    "        self.n_layers = n_layers\n",
    "        \n",
    "        # input_size 256, hidden_size 256.\n",
    "        self.embedding = nn.Embedding(input_size, hidden_size)\n",
    "        self.gru = nn.GRU(hidden_size, hidden_size, n_layers)\n",
    "        self.fc = nn.Linear(hidden_size, output_size)\n",
    "    \n",
    "    def forward(self, input):\n",
    "        \"\"\"\n",
    "        Do not remove `print`. Leave it be a historical footprint for I myself in the future\n",
    "        \"\"\"\n",
    "        \n",
    "        # Sung Kim run this all at once (over the whole input sequence)\n",
    "        # input = B x S . size(0) = B\n",
    "        batch_size = input.size(0)\n",
    "        \n",
    "        # input: B x S -- (transpose) --> S x B\n",
    "        input = input.t()\n",
    "        \n",
    "        # Embedding S x B -> S x B x I (embedding size)\n",
    "        # print(f\" input size: {input.size()}\")\n",
    "        embedded = self.embedding(input)\n",
    "        embedded = embedded.clone().detach() # Make new tensor because of `EmbeddingGrad`\n",
    "        # print(f\" embeddding size: {embedded.size()}\")\n",
    "        \n",
    "        # Make a hidden\n",
    "        hidden = self._init_hidden(batch_size)\n",
    "        output, hidden = self.gru(embedded, hidden)\n",
    "        # print(f\" gru hidden output: {hidden.size()}\")\n",
    "        \n",
    "        # Use last layer output as FC's input\n",
    "        # No need to unpack, since we are going to use hidden\n",
    "        fc_output = self.fc(hidden)\n",
    "        # print(f\" fc output: {fc_output.size()}\")\n",
    "        return fc_output\n",
    "        \n",
    "    def _init_hidden(self, batch_size):\n",
    "        hidden = torch.zeros(self.n_layers, batch_size, self.hidden_size)\n",
    "        return hidden.clone().detach()"
   ]
  },
  {
   "cell_type": "code",
   "execution_count": 7,
   "metadata": {},
   "outputs": [],
   "source": [
    "# in torch.Size([1, 6]) 'adylov'\n",
    "# out torch.Size([1, 1, 18]) 18 countries"
   ]
  },
  {
   "cell_type": "markdown",
   "metadata": {},
   "source": [
    "# Zero padding"
   ]
  },
  {
   "cell_type": "markdown",
   "metadata": {},
   "source": [
    "<img src='zero_padding.png'>"
   ]
  },
  {
   "cell_type": "code",
   "execution_count": 4,
   "metadata": {},
   "outputs": [],
   "source": [
    "def pad_sequences(vectorized_seqs, seq_lengths):\n",
    "    \"\"\"\n",
    "    Let the `SEQUENCE_LENGTH` is 19. According to the dataset\n",
    "    \"\"\"\n",
    "    seq_tensor = torch.zeros((len(vectorized_seqs), SEQUENCE_LENGTH), dtype=torch.long)\n",
    "    for idx, (seq, seq_len) in enumerate(zip(vectorized_seqs, seq_lengths)):\n",
    "        seq_tensor[idx, :seq_len] = torch.tensor(seq, dtype=torch.long)\n",
    "    return seq_tensor"
   ]
  },
  {
   "cell_type": "code",
   "execution_count": 5,
   "metadata": {},
   "outputs": [],
   "source": [
    "def make_variables(names):\n",
    "    sequence_and_length = [str2ascii_arr(name) for name in names]\n",
    "    vectorized_seqs = [sl[0] for sl in sequence_and_length]\n",
    "    seq_lengths = torch.tensor([sl[1] for sl in sequence_and_length])\n",
    "    return pad_sequences(vectorized_seqs, seq_lengths)"
   ]
  },
  {
   "cell_type": "code",
   "execution_count": 6,
   "metadata": {},
   "outputs": [
    {
     "data": {
      "text/plain": [
       "tensor([[ 97, 122,   0,   0,   0,   0,   0,   0,   0,   0,   0,   0,   0,   0,\n",
       "           0,   0,   0,   0,   0],\n",
       "        [ 97,  98,  32,   0,   0,   0,   0,   0,   0,   0,   0,   0,   0,   0,\n",
       "           0,   0,   0,   0,   0]])"
      ]
     },
     "execution_count": 6,
     "metadata": {},
     "output_type": "execute_result"
    }
   ],
   "source": [
    "make_variables(['az', 'ab '])"
   ]
  },
  {
   "cell_type": "code",
   "execution_count": 7,
   "metadata": {},
   "outputs": [
    {
     "name": "stdout",
     "output_type": "stream",
     "text": [
      "\n",
      "in: torch.Size([1, 6]), \n",
      "out: torch.Size([1, 1, 18])\n"
     ]
    }
   ],
   "source": [
    "classifier = RNNClassifier()\n",
    "arr, _ = str2ascii_arr('adylov')\n",
    "inp = torch.tensor([arr], dtype=torch.long)\n",
    "out = classifier(inp)\n",
    "print(f\"\\nin: {inp.size()}, \\nout: {out.size()}\")"
   ]
  },
  {
   "cell_type": "code",
   "execution_count": 8,
   "metadata": {},
   "outputs": [
    {
     "name": "stdout",
     "output_type": "stream",
     "text": [
      "\n",
      "batch in: torch.Size([4, 19]), \n",
      "batch out: torch.Size([1, 4, 18])\n"
     ]
    }
   ],
   "source": [
    "names = ['adylov', 'solan', 'hard', 'san']\n",
    "classifier = RNNClassifier()\n",
    "inputs = make_variables(names)\n",
    "out = classifier(inputs)\n",
    "print(f\"\\nbatch in: {inputs.size()}, \\nbatch out: {out.size()}\")"
   ]
  },
  {
   "cell_type": "markdown",
   "metadata": {},
   "source": [
    "# Utilities"
   ]
  },
  {
   "cell_type": "code",
   "execution_count": 9,
   "metadata": {},
   "outputs": [],
   "source": [
    "import itertools\n",
    "import numpy as np\n",
    "import matplotlib.pyplot as plt\n",
    "from sklearn.metrics import confusion_matrix\n",
    "\n",
    "def plot_confusion_matrix(cm, classes,\n",
    "                          normalize=False,\n",
    "                          title='Confusion matrix',\n",
    "                          cmap=plt.cm.Blues):\n",
    "    \"\"\"\n",
    "    This function prints and plots the confusion matrix.\n",
    "    Normalization can be applied by setting `normalize=True`.\n",
    "    \"\"\"\n",
    "    print(cm)\n",
    "    plt.figure(figsize=(10, 10))\n",
    "    plt.imshow(cm, interpolation='nearest', cmap=cmap)\n",
    "    plt.title(title)\n",
    "    plt.colorbar()\n",
    "    tick_marks = np.arange(len(classes))\n",
    "    plt.xticks(tick_marks, classes, rotation=45)\n",
    "    plt.yticks(tick_marks, classes)\n",
    "\n",
    "    fmt = '.2f' if normalize else 'd'\n",
    "    thresh = cm.max() / 2.\n",
    "    for i, j in itertools.product(range(cm.shape[0]), range(cm.shape[1])):\n",
    "        plt.text(j, i, format(cm[i, j], fmt),\n",
    "                 horizontalalignment=\"center\",\n",
    "                 color=\"white\" if cm[i, j] > thresh else \"black\")\n",
    "\n",
    "    plt.ylabel('True label')\n",
    "    plt.xlabel('Predicted label')\n",
    "    plt.tight_layout()\n",
    "\n",
    "def train(model, device, train_loader, optimizer, epoch, criterion):\n",
    "    \"\"\"\n",
    "    This function has one line different from the ordinary `train()` function\n",
    "    It has `make_variables()` to convert tuple of names to be a tensor\n",
    "    \"\"\"\n",
    "    model.train()\n",
    "    for batch_idx, (data, target) in enumerate(train_loader):\n",
    "\n",
    "        # Do not forget to convert the tuple of string to a tensor\n",
    "        data = make_variables(data)\n",
    "        \n",
    "        data, target = data.to(device), target.to(device)\n",
    "        optimizer.zero_grad()\n",
    "        output = model(data)\n",
    "        tmp = output.view(-1, COUNTRY_LENGTH)\n",
    "        loss = criterion(tmp, target)\n",
    "        loss.backward()\n",
    "        optimizer.step()\n",
    "        if batch_idx % 1000 == 0:\n",
    "            print('Train Epoch: {} [{}/{} ({:.0f}%)]\\tLoss: {:.6f}'.format(\n",
    "                epoch, batch_idx * len(data), len(train_loader.dataset),\n",
    "                100. * batch_idx / len(train_loader), loss.item()))\n",
    "\n",
    "def test(model, device, test_loader, criterion):\n",
    "    model.eval()\n",
    "    test_loss = 0\n",
    "    correct = 0\n",
    "    y_test = []\n",
    "    y_pred = []\n",
    "    with torch.no_grad():\n",
    "        for data, target in tqdm(test_loader):\n",
    "            data = make_variables(data)\n",
    "            data, target = data.to(device), target.to(device)\n",
    "            output = model(data)\n",
    "            tmp = output.view(-1, COUNTRY_LENGTH)\n",
    "            \n",
    "            test_loss += criterion(tmp, target).item() # sum up batch loss\n",
    "            pred = tmp.max(1, keepdim=True)[1] # get the index of the max log-probability\n",
    "\n",
    "            pred_tmp = pred.view(-1)\n",
    "            pred_list = pred_tmp.tolist()\n",
    "            target_list = target.tolist()\n",
    "            \n",
    "            y_test += target_list\n",
    "            y_pred += pred_list\n",
    "            correct += pred.eq(target.view_as(pred)).sum().item()\n",
    "\n",
    "    test_loss /= len(test_loader.dataset)\n",
    "\n",
    "    print('\\nTest set: Average loss: {:.4f}, Accuracy: {}/{} ({:.0f}%)\\n'.format(\n",
    "        test_loss, correct, len(test_loader.dataset),\n",
    "        100. * correct / len(test_loader.dataset)))\n",
    "    \n",
    "    # Confusion matrix\n",
    "    confusion_mtx = confusion_matrix(y_test, y_pred)\n",
    "    plot_confusion_matrix(confusion_mtx, classes=countries, normalize=True,\n",
    "                          title='Confusion matrix')\n"
   ]
  },
  {
   "cell_type": "markdown",
   "metadata": {},
   "source": [
    "# Dataset"
   ]
  },
  {
   "cell_type": "code",
   "execution_count": 10,
   "metadata": {},
   "outputs": [],
   "source": [
    "trainset = pd.read_csv('names_train.csv', header=None)\n",
    "testset = pd.read_csv('names_test.csv', header=None) "
   ]
  },
  {
   "cell_type": "code",
   "execution_count": 11,
   "metadata": {},
   "outputs": [],
   "source": [
    "headers = ['name', 'country']\n",
    "trainset.columns = headers\n",
    "testset.columns = headers"
   ]
  },
  {
   "cell_type": "code",
   "execution_count": 12,
   "metadata": {},
   "outputs": [],
   "source": [
    "countries = sorted(list(trainset.country.drop_duplicates()))"
   ]
  },
  {
   "cell_type": "code",
   "execution_count": 13,
   "metadata": {},
   "outputs": [],
   "source": [
    "country_counting = trainset.country.value_counts()"
   ]
  },
  {
   "cell_type": "code",
   "execution_count": 14,
   "metadata": {},
   "outputs": [
    {
     "data": {
      "text/plain": [
       "Russian       6272\n",
       "English       2445\n",
       "Arabic        1333\n",
       "Japanese       660\n",
       "German         482\n",
       "Italian        472\n",
       "Czech          346\n",
       "Dutch          198\n",
       "Spanish        198\n",
       "French         184\n",
       "Chinese        178\n",
       "Irish          154\n",
       "Greek          135\n",
       "Polish          92\n",
       "Scottish        66\n",
       "Korean          62\n",
       "Portuguese      49\n",
       "Vietnamese      48\n",
       "Name: country, dtype: int64"
      ]
     },
     "execution_count": 14,
     "metadata": {},
     "output_type": "execute_result"
    }
   ],
   "source": [
    "country_counting"
   ]
  },
  {
   "cell_type": "code",
   "execution_count": 15,
   "metadata": {},
   "outputs": [],
   "source": [
    "counting_df = pd.DataFrame(country_counting)"
   ]
  },
  {
   "cell_type": "code",
   "execution_count": 16,
   "metadata": {},
   "outputs": [
    {
     "data": {
      "text/plain": [
       "6272"
      ]
     },
     "execution_count": 16,
     "metadata": {},
     "output_type": "execute_result"
    }
   ],
   "source": [
    "counting_df.loc['Russian']['country']"
   ]
  },
  {
   "cell_type": "code",
   "execution_count": 17,
   "metadata": {},
   "outputs": [],
   "source": [
    "counting_df['ratio'] = (counting_df.country.sum())/counting_df['country']"
   ]
  },
  {
   "cell_type": "markdown",
   "metadata": {},
   "source": [
    "Use at `CrossEntropy` weights"
   ]
  },
  {
   "cell_type": "code",
   "execution_count": 18,
   "metadata": {},
   "outputs": [
    {
     "data": {
      "text/plain": [
       "13374"
      ]
     },
     "execution_count": 18,
     "metadata": {},
     "output_type": "execute_result"
    }
   ],
   "source": [
    "counting_df.country.sum()"
   ]
  },
  {
   "cell_type": "code",
   "execution_count": 19,
   "metadata": {},
   "outputs": [
    {
     "data": {
      "text/html": [
       "<div>\n",
       "<style scoped>\n",
       "    .dataframe tbody tr th:only-of-type {\n",
       "        vertical-align: middle;\n",
       "    }\n",
       "\n",
       "    .dataframe tbody tr th {\n",
       "        vertical-align: top;\n",
       "    }\n",
       "\n",
       "    .dataframe thead th {\n",
       "        text-align: right;\n",
       "    }\n",
       "</style>\n",
       "<table border=\"1\" class=\"dataframe\">\n",
       "  <thead>\n",
       "    <tr style=\"text-align: right;\">\n",
       "      <th></th>\n",
       "      <th>country</th>\n",
       "      <th>ratio</th>\n",
       "    </tr>\n",
       "  </thead>\n",
       "  <tbody>\n",
       "    <tr>\n",
       "      <th>Russian</th>\n",
       "      <td>6272</td>\n",
       "      <td>2.132334</td>\n",
       "    </tr>\n",
       "    <tr>\n",
       "      <th>English</th>\n",
       "      <td>2445</td>\n",
       "      <td>5.469939</td>\n",
       "    </tr>\n",
       "    <tr>\n",
       "      <th>Arabic</th>\n",
       "      <td>1333</td>\n",
       "      <td>10.033008</td>\n",
       "    </tr>\n",
       "    <tr>\n",
       "      <th>Japanese</th>\n",
       "      <td>660</td>\n",
       "      <td>20.263636</td>\n",
       "    </tr>\n",
       "    <tr>\n",
       "      <th>German</th>\n",
       "      <td>482</td>\n",
       "      <td>27.746888</td>\n",
       "    </tr>\n",
       "    <tr>\n",
       "      <th>Italian</th>\n",
       "      <td>472</td>\n",
       "      <td>28.334746</td>\n",
       "    </tr>\n",
       "    <tr>\n",
       "      <th>Czech</th>\n",
       "      <td>346</td>\n",
       "      <td>38.653179</td>\n",
       "    </tr>\n",
       "    <tr>\n",
       "      <th>Dutch</th>\n",
       "      <td>198</td>\n",
       "      <td>67.545455</td>\n",
       "    </tr>\n",
       "    <tr>\n",
       "      <th>Spanish</th>\n",
       "      <td>198</td>\n",
       "      <td>67.545455</td>\n",
       "    </tr>\n",
       "    <tr>\n",
       "      <th>French</th>\n",
       "      <td>184</td>\n",
       "      <td>72.684783</td>\n",
       "    </tr>\n",
       "    <tr>\n",
       "      <th>Chinese</th>\n",
       "      <td>178</td>\n",
       "      <td>75.134831</td>\n",
       "    </tr>\n",
       "    <tr>\n",
       "      <th>Irish</th>\n",
       "      <td>154</td>\n",
       "      <td>86.844156</td>\n",
       "    </tr>\n",
       "    <tr>\n",
       "      <th>Greek</th>\n",
       "      <td>135</td>\n",
       "      <td>99.066667</td>\n",
       "    </tr>\n",
       "    <tr>\n",
       "      <th>Polish</th>\n",
       "      <td>92</td>\n",
       "      <td>145.369565</td>\n",
       "    </tr>\n",
       "    <tr>\n",
       "      <th>Scottish</th>\n",
       "      <td>66</td>\n",
       "      <td>202.636364</td>\n",
       "    </tr>\n",
       "    <tr>\n",
       "      <th>Korean</th>\n",
       "      <td>62</td>\n",
       "      <td>215.709677</td>\n",
       "    </tr>\n",
       "    <tr>\n",
       "      <th>Portuguese</th>\n",
       "      <td>49</td>\n",
       "      <td>272.938776</td>\n",
       "    </tr>\n",
       "    <tr>\n",
       "      <th>Vietnamese</th>\n",
       "      <td>48</td>\n",
       "      <td>278.625000</td>\n",
       "    </tr>\n",
       "  </tbody>\n",
       "</table>\n",
       "</div>"
      ],
      "text/plain": [
       "            country       ratio\n",
       "Russian        6272    2.132334\n",
       "English        2445    5.469939\n",
       "Arabic         1333   10.033008\n",
       "Japanese        660   20.263636\n",
       "German          482   27.746888\n",
       "Italian         472   28.334746\n",
       "Czech           346   38.653179\n",
       "Dutch           198   67.545455\n",
       "Spanish         198   67.545455\n",
       "French          184   72.684783\n",
       "Chinese         178   75.134831\n",
       "Irish           154   86.844156\n",
       "Greek           135   99.066667\n",
       "Polish           92  145.369565\n",
       "Scottish         66  202.636364\n",
       "Korean           62  215.709677\n",
       "Portuguese       49  272.938776\n",
       "Vietnamese       48  278.625000"
      ]
     },
     "execution_count": 19,
     "metadata": {},
     "output_type": "execute_result"
    }
   ],
   "source": [
    "counting_df"
   ]
  },
  {
   "cell_type": "code",
   "execution_count": 20,
   "metadata": {},
   "outputs": [
    {
     "data": {
      "text/plain": [
       "<matplotlib.axes._subplots.AxesSubplot at 0x7f9275c275c0>"
      ]
     },
     "execution_count": 20,
     "metadata": {},
     "output_type": "execute_result"
    },
    {
     "data": {
      "image/png": "[encoded data removed]",
      "text/plain": [
       "<Figure size 432x288 with 1 Axes>"
      ]
     },
     "metadata": {},
     "output_type": "display_data"
    }
   ],
   "source": [
    "# Majority of dataset is `Russian`\n",
    "trainset.country.value_counts().plot.pie()"
   ]
  },
  {
   "cell_type": "code",
   "execution_count": 21,
   "metadata": {},
   "outputs": [
    {
     "data": {
      "text/plain": [
       "<matplotlib.axes._subplots.AxesSubplot at 0x7f9275b59780>"
      ]
     },
     "execution_count": 21,
     "metadata": {},
     "output_type": "execute_result"
    },
    {
     "data": {
      "image/png": "[encoded data removed]",
      "text/plain": [
       "<Figure size 432x288 with 1 Axes>"
      ]
     },
     "metadata": {},
     "output_type": "display_data"
    }
   ],
   "source": [
    "# So as trainset\n",
    "testset.country.value_counts().plot.pie()"
   ]
  },
  {
   "cell_type": "code",
   "execution_count": 22,
   "metadata": {},
   "outputs": [
    {
     "data": {
      "text/plain": [
       "'Czech'"
      ]
     },
     "execution_count": 22,
     "metadata": {},
     "output_type": "execute_result"
    }
   ],
   "source": [
    "trainset.iloc[0]['country']"
   ]
  },
  {
   "cell_type": "markdown",
   "metadata": {},
   "source": [
    "# Find the longest name in the dataset"
   ]
  },
  {
   "cell_type": "code",
   "execution_count": 23,
   "metadata": {},
   "outputs": [],
   "source": [
    "result = pd.concat([trainset, testset])"
   ]
  },
  {
   "cell_type": "code",
   "execution_count": 24,
   "metadata": {},
   "outputs": [],
   "source": [
    "result['name_length'] = result.name.apply(lambda x:  len(x))"
   ]
  },
  {
   "cell_type": "markdown",
   "metadata": {},
   "source": [
    "## Longest name is 19 chars\n",
    "19 is the `sequence_length`"
   ]
  },
  {
   "cell_type": "code",
   "execution_count": 25,
   "metadata": {},
   "outputs": [
    {
     "data": {
      "text/plain": [
       "(19, 7925)"
      ]
     },
     "execution_count": 25,
     "metadata": {},
     "output_type": "execute_result"
    }
   ],
   "source": [
    "result['name_length'].max(), result['name_length'].idxmax()"
   ]
  },
  {
   "cell_type": "code",
   "execution_count": 26,
   "metadata": {},
   "outputs": [
    {
     "data": {
      "text/plain": [
       "name           ShirinskyShikhmatov\n",
       "country                    Russian\n",
       "name_length                     19\n",
       "Name: 7925, dtype: object"
      ]
     },
     "execution_count": 26,
     "metadata": {},
     "output_type": "execute_result"
    }
   ],
   "source": [
    "result.iloc[7925]"
   ]
  },
  {
   "cell_type": "code",
   "execution_count": 27,
   "metadata": {},
   "outputs": [],
   "source": [
    "class NameDataSet(Dataset):\n",
    "    def __init__(self, filename='names_train.csv'):\n",
    "        trainset = pd.read_csv('names_train.csv', header=None)\n",
    "        trainset.columns = ['name', 'country']\n",
    "        countries = sorted(list(trainset.country.drop_duplicates()))\n",
    "\n",
    "        self.trainset = trainset\n",
    "        self.countries = countries\n",
    "        self.len = len(trainset)        \n",
    "\n",
    "    def __getitem__(self, index):\n",
    "        country = self.trainset.iloc[index]['country']\n",
    "        return self.trainset.iloc[index]['name'], self.countries.index(country)\n",
    "\n",
    "    def __len__(self):\n",
    "        return self.len\n",
    "        "
   ]
  },
  {
   "cell_type": "code",
   "execution_count": 28,
   "metadata": {},
   "outputs": [],
   "source": [
    "train_dataset = NameDataSet()\n",
    "test_dataset = NameDataSet('names_test.csv')"
   ]
  },
  {
   "cell_type": "code",
   "execution_count": 29,
   "metadata": {},
   "outputs": [
    {
     "data": {
      "text/plain": [
       "2"
      ]
     },
     "execution_count": 29,
     "metadata": {},
     "output_type": "execute_result"
    }
   ],
   "source": [
    "train_dataset.countries.index('Czech')"
   ]
  },
  {
   "cell_type": "code",
   "execution_count": 30,
   "metadata": {},
   "outputs": [],
   "source": [
    "train_loader = DataLoader(dataset=train_dataset, batch_size=2, num_workers=2, shuffle=True) # 2 * 9 * 743 \n",
    "test_loader = DataLoader(dataset=test_dataset, batch_size=2, num_workers=2) # 4 * 25 * 67"
   ]
  },
  {
   "cell_type": "markdown",
   "metadata": {},
   "source": [
    "# 1. Model"
   ]
  },
  {
   "cell_type": "code",
   "execution_count": 31,
   "metadata": {},
   "outputs": [],
   "source": [
    "model = RNNClassifier()"
   ]
  },
  {
   "cell_type": "markdown",
   "metadata": {},
   "source": [
    "# 2. Criterion & Loss\n",
    "Loss is absorbed in the `test() and train()` already"
   ]
  },
  {
   "cell_type": "code",
   "execution_count": 234,
   "metadata": {},
   "outputs": [],
   "source": [
    "weight_list = [counting_df.loc[country]['ratio'] for country in countries]"
   ]
  },
  {
   "cell_type": "code",
   "execution_count": 235,
   "metadata": {},
   "outputs": [],
   "source": [
    "weight = torch.tensor(weight_list, dtype=torch.float)"
   ]
  },
  {
   "cell_type": "code",
   "execution_count": 32,
   "metadata": {},
   "outputs": [],
   "source": [
    "weight = None"
   ]
  },
  {
   "cell_type": "code",
   "execution_count": 33,
   "metadata": {},
   "outputs": [],
   "source": [
    "criterion = nn.CrossEntropyLoss(weight=weight)\n",
    "optimizer = torch.optim.Adam(model.parameters(), lr=0.001)"
   ]
  },
  {
   "cell_type": "code",
   "execution_count": 34,
   "metadata": {
    "scrolled": false
   },
   "outputs": [
    {
     "name": "stdout",
     "output_type": "stream",
     "text": [
      "Train Epoch: 1 [0/13374 (0%)]\tLoss: 2.968303\n",
      "Train Epoch: 1 [2000/13374 (15%)]\tLoss: 0.822056\n",
      "Train Epoch: 1 [4000/13374 (30%)]\tLoss: 0.424129\n",
      "Train Epoch: 1 [6000/13374 (45%)]\tLoss: 0.010402\n",
      "Train Epoch: 1 [8000/13374 (60%)]\tLoss: 0.315003\n",
      "Train Epoch: 1 [10000/13374 (75%)]\tLoss: 0.026189\n",
      "Train Epoch: 1 [12000/13374 (90%)]\tLoss: 0.662580\n"
     ]
    },
    {
     "data": {
      "application/vnd.jupyter.widget-view+json": {
       "model_id": "2854e84067ea47558c4851c90d8b3311",
       "version_major": 2,
       "version_minor": 0
      },
      "text/plain": [
       "HBox(children=(IntProgress(value=0, max=6687), HTML(value='')))"
      ]
     },
     "metadata": {},
     "output_type": "display_data"
    },
    {
     "name": "stdout",
     "output_type": "stream",
     "text": [
      "\n",
      "\n",
      "Test set: Average loss: 0.3233, Accuracy: 10692/13374 (80%)\n",
      "\n",
      "[[1277    0    0    0   10    0    0    0    0   10    0    0    0    0\n",
      "    22    0   14    0]\n",
      " [   2   46    0    0   17    1    0    0    0    3    4   51    0    0\n",
      "    25    0    1   28]\n",
      " [   7    0   56    0   79    0   26    0    1    5   12    0   21    0\n",
      "   124    0   15    0]\n",
      " [   8    1    1   12  117    2   17    0    0    0    0    1    0    0\n",
      "    32    0    7    0]\n",
      " [  31    3    7    0 2025   11   44    0    4   17   19    2    0    0\n",
      "   236    0   44    2]\n",
      " [   0    0    1    0  105   34    6    0    0    5    1    0    0    0\n",
      "    29    0    3    0]\n",
      " [  11    1    6    1  178   10  150    0    0    5    6    1    1    0\n",
      "   104    0    5    3]\n",
      " [  15    0    0    0   10    3    0    0    0    7    2    0    0    0\n",
      "    60    0   38    0]\n",
      " [   1    1    0    0   83    0    5    0   18    1    3    0    0    0\n",
      "    38    0    4    0]\n",
      " [   1    0    4    0   20    1    1    0    0  331    9    2    0    0\n",
      "    41    0   62    0]\n",
      " [  10    0    0    0   10    0    0    0    0   14  541   11    2    0\n",
      "    66    0    6    0]\n",
      " [   2    5    1    0    5    0    0    0    0    0    0   37    0    0\n",
      "     7    0    0    5]\n",
      " [   0    0    7    0    6    0    2    0    0    1    3    0   41    0\n",
      "    25    0    7    0]\n",
      " [   3    0    0    0    6    1    0    0    0    4    3    0    0    0\n",
      "     9    0   23    0]\n",
      " [  13    2    1    1  142    6   18    0    1   20   23    8    5    0\n",
      "  5995    0   37    0]\n",
      " [   1    0    0    0   57    1    1    0    0    0    0    0    0    0\n",
      "     6    0    0    0]\n",
      " [   6    0    4    0   22    4    0    0    1   22    3    0    0    0\n",
      "    21    0  115    0]\n",
      " [   0    5    0    0    6    1    2    0    0    2    1    9    0    0\n",
      "     8    0    0   14]]\n"
     ]
    },
    {
     "data": {
      "image/png": "[encoded data removed]",
      "text/plain": [
       "<Figure size 720x720 with 2 Axes>"
      ]
     },
     "metadata": {
      "needs_background": "light"
     },
     "output_type": "display_data"
    }
   ],
   "source": [
    "# Weight is none!\n",
    "for epoch in tqdm(range(1, 1 + 1)):\n",
    "    train(model, 'cpu', train_loader, optimizer, epoch, criterion)\n",
    "    test(model, 'cpu', test_loader, criterion)"
   ]
  },
  {
   "cell_type": "markdown",
   "metadata": {},
   "source": [
    "# Experiment Notes"
   ]
  },
  {
   "cell_type": "markdown",
   "metadata": {},
   "source": [
    "1. Linear layer either one layer or two layers. No impact on confusion matrix. It still blindly guess `Russian`"
   ]
  },
  {
   "cell_type": "markdown",
   "metadata": {},
   "source": [
    "# Scratch Note"
   ]
  },
  {
   "cell_type": "code",
   "execution_count": 212,
   "metadata": {},
   "outputs": [],
   "source": [
    "weight = torch.tensor([3, 1, 1], dtype=torch.float)"
   ]
  },
  {
   "cell_type": "code",
   "execution_count": 213,
   "metadata": {},
   "outputs": [],
   "source": [
    "loss = nn.CrossEntropyLoss(weight=weight)"
   ]
  },
  {
   "cell_type": "code",
   "execution_count": 214,
   "metadata": {},
   "outputs": [],
   "source": [
    "Y = torch.tensor([2, 0, 1], dtype=torch.long)\n",
    "y_pred1 = torch.tensor([\n",
    "    [.1 ,.2, .9],\n",
    "    [1.1, .1, .2],\n",
    "    [0.2, 2.1, .1]\n",
    "])\n",
    "y_pred2 = torch.tensor([\n",
    "    [0.8, .2, .3],\n",
    "    [.2, .3, .5],\n",
    "    [.2, .2, .1],\n",
    "])"
   ]
  },
  {
   "cell_type": "code",
   "execution_count": 215,
   "metadata": {},
   "outputs": [
    {
     "data": {
      "text/plain": [
       "tensor(0.5274)"
      ]
     },
     "execution_count": 215,
     "metadata": {},
     "output_type": "execute_result"
    }
   ],
   "source": [
    "l1 = loss(y_pred1, Y)\n",
    "l1"
   ]
  },
  {
   "cell_type": "code",
   "execution_count": 216,
   "metadata": {},
   "outputs": [
    {
     "data": {
      "text/plain": [
       "tensor(1.2108)"
      ]
     },
     "execution_count": 216,
     "metadata": {},
     "output_type": "execute_result"
    }
   ],
   "source": [
    "l2 = loss(y_pred2, Y)\n",
    "l2"
   ]
  },
  {
   "cell_type": "code",
   "execution_count": null,
   "metadata": {},
   "outputs": [],
   "source": []
  }
 ],
 "metadata": {
  "kernelspec": {
   "display_name": "Python 3",
   "language": "python",
   "name": "python3"
  },
  "language_info": {
   "codemirror_mode": {
    "name": "ipython",
    "version": 3
   },
   "file_extension": ".py",
   "mimetype": "text/x-python",
   "name": "python",
   "nbconvert_exporter": "python",
   "pygments_lexer": "ipython3",
   "version": "3.6.6"
  }
 },
 "nbformat": 4,
 "nbformat_minor": 2
}
