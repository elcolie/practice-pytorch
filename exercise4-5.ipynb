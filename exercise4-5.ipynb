{
 "cells": [
  {
   "cell_type": "code",
   "execution_count": 5,
   "metadata": {},
   "outputs": [],
   "source": [
    "import torch\n",
    "from torch.autograd import Variable"
   ]
  },
  {
   "cell_type": "code",
   "execution_count": 6,
   "metadata": {},
   "outputs": [],
   "source": [
    "x_data = [1.0, 2.0 ,3.0]\n",
    "y_data = [2.0, 4.0, 6.0]\n",
    "w = torch.tensor([[1.0, 1.0]], requires_grad=True)\n",
    "b = 4.\n",
    "lr = 0.01"
   ]
  },
  {
   "cell_type": "code",
   "execution_count": 7,
   "metadata": {},
   "outputs": [],
   "source": [
    "def forward(x):\n",
    "    a = torch.tensor([[x * x], [x]], dtype=torch.float).view(-1, 2)\n",
    "    return torch.mm(a, w.view(2, -1)) + b\n",
    "def loss(x,y):\n",
    "    y_pred = forward(x)\n",
    "    return (y_pred - y) * (y_pred - y)"
   ]
  },
  {
   "cell_type": "code",
   "execution_count": 8,
   "metadata": {},
   "outputs": [
    {
     "name": "stdout",
     "output_type": "stream",
     "text": [
      "predict (before training), 4, tensor([[24.]], grad_fn=<AddBackward>)\n",
      "\tgrad: 1.0, 2.0, tensor([8., 8.])\n",
      "\tgrad: 2.0, 4.0, tensor([44.1600, 22.0800])\n",
      "\tgrad: 3.0, 6.0, tensor([79.2576, 26.4192])\n",
      "progress: 0, tensor([19.3882])\n",
      "\tgrad: 1.0, 2.0, tensor([4.2417, 4.2417])\n",
      "\tgrad: 2.0, 4.0, tensor([-5.1295, -2.5648])\n",
      "\tgrad: 3.0, 6.0, tensor([-62.8733, -20.9578])\n",
      "progress: 1, tensor([12.2008])\n",
      "\tgrad: 1.0, 2.0, tensor([5.9025, 5.9025])\n",
      "\tgrad: 2.0, 4.0, tensor([17.5618,  8.7809])\n",
      "\tgrad: 3.0, 6.0, tensor([4.3574, 1.4525])\n",
      "progress: 2, tensor([0.0586])\n",
      "\tgrad: 1.0, 2.0, tensor([5.0234, 5.0234])\n",
      "\tgrad: 2.0, 4.0, tensor([6.4991, 3.2495])\n",
      "\tgrad: 3.0, 6.0, tensor([-26.6197,  -8.8732])\n",
      "progress: 3, tensor([2.1871])\n",
      "\tgrad: 1.0, 2.0, tensor([5.3373, 5.3373])\n",
      "\tgrad: 2.0, 4.0, tensor([11.2756,  5.6378])\n",
      "\tgrad: 3.0, 6.0, tensor([-11.5437,  -3.8479])\n",
      "progress: 4, tensor([0.4113])\n",
      "\tgrad: 1.0, 2.0, tensor([5.0934, 5.0934])\n",
      "\tgrad: 2.0, 4.0, tensor([8.6301, 4.3151])\n",
      "\tgrad: 3.0, 6.0, tensor([-18.0777,  -6.0259])\n",
      "progress: 5, tensor([1.0087])\n",
      "\tgrad: 1.0, 2.0, tensor([5.1128, 5.1128])\n",
      "\tgrad: 2.0, 4.0, tensor([9.4730, 4.7365])\n",
      "\tgrad: 3.0, 6.0, tensor([-14.4854,  -4.8285])\n",
      "progress: 6, tensor([0.6476])\n",
      "\tgrad: 1.0, 2.0, tensor([5.0104, 5.0104])\n",
      "\tgrad: 2.0, 4.0, tensor([8.6867, 4.3433])\n",
      "\tgrad: 3.0, 6.0, tensor([-15.6519,  -5.2173])\n",
      "progress: 7, tensor([0.7561])\n",
      "\tgrad: 1.0, 2.0, tensor([4.9668, 4.9668])\n",
      "\tgrad: 2.0, 4.0, tensor([8.6713, 4.3357])\n",
      "\tgrad: 3.0, 6.0, tensor([-14.5955,  -4.8652])\n",
      "progress: 8, tensor([0.6575])\n",
      "\tgrad: 1.0, 2.0, tensor([4.8972, 4.8972])\n",
      "\tgrad: 2.0, 4.0, tensor([8.3012, 4.1506])\n",
      "\tgrad: 3.0, 6.0, tensor([-14.5907,  -4.8636])\n",
      "progress: 9, tensor([0.6571])\n",
      "predict 4, tensor([8.4556])\n"
     ]
    }
   ],
   "source": [
    "# Predict before training\n",
    "print(f\"predict (before training), 4, {forward(4)}\")\n",
    "\n",
    "# Training loop\n",
    "for epoch in range(10):\n",
    "    for x_val, y_val in zip(x_data, y_data):\n",
    "        l = loss(x_val, y_val)\n",
    "        l.backward()\n",
    "        print(f\"\\tgrad: {x_val}, {y_val}, {w.grad.data[0]}\")\n",
    "        w.data = w.data - lr * w.grad.data\n",
    "        \n",
    "        w.grad.zero_()\n",
    "    print(f\"progress: {epoch}, {l.data[0]}\")\n",
    "        \n",
    "# After training\n",
    "print(f\"predict 4, {forward(4).data[0]}\")"
   ]
  },
  {
   "cell_type": "code",
   "execution_count": 14,
   "metadata": {},
   "outputs": [],
   "source": [
    "# Doing a cross check\n",
    "def hat_y(x, w1, w2, b):\n",
    "    return x * x * w2 + x * w1 + b\n",
    "def s_fn(x, w1, w2, b, y):\n",
    "    return hat_y(x, w1, w2, b) - y"
   ]
  },
  {
   "cell_type": "code",
   "execution_count": 13,
   "metadata": {},
   "outputs": [
    {
     "data": {
      "text/plain": [
       "24"
      ]
     },
     "execution_count": 13,
     "metadata": {},
     "output_type": "execute_result"
    }
   ],
   "source": [
    "hat_y(4, 1, 1, 4)"
   ]
  },
  {
   "cell_type": "markdown",
   "metadata": {},
   "source": [
    "$s = \\hat y - y$\n",
    "\n",
    "$\\displaystyle{\\frac{\\partial loss}{\\partial w_1}} = 2 s x$"
   ]
  },
  {
   "cell_type": "code",
   "execution_count": 20,
   "metadata": {},
   "outputs": [
    {
     "name": "stdout",
     "output_type": "stream",
     "text": [
      "8.0\n",
      "8.0\n"
     ]
    }
   ],
   "source": [
    "# Check with first iteration\n",
    "x = 1\n",
    "y = 2\n",
    "w1, w2 = 1, 1\n",
    "dloss_by_dw1 = 2* s_fn(x, w1, w2, b, y) * x\n",
    "dloss_by_dw2 = 2 * s_fn(x, w1, w2, b, y) * x *x\n",
    "print(dloss_by_dw1)\n",
    "print(dloss_by_dw2)"
   ]
  },
  {
   "cell_type": "code",
   "execution_count": 22,
   "metadata": {},
   "outputs": [
    {
     "name": "stdout",
     "output_type": "stream",
     "text": [
      "20.160000000000004\n",
      "40.32000000000001\n"
     ]
    }
   ],
   "source": [
    "# update w. Not accurate since it is not a numpy. But it is fine for rough check\n",
    "x = 2\n",
    "y = 4\n",
    "w1, w2 = w1 -lr * dloss_by_dw1, w2 - lr * dloss_by_dw2\n",
    "dloss_by_dw1 = 2* s_fn(x, w1, w2, b, y) * x\n",
    "dloss_by_dw2 = 2 * s_fn(x, w1, w2, b, y) * x *x\n",
    "print(dloss_by_dw1)\n",
    "print(dloss_by_dw2)"
   ]
  },
  {
   "cell_type": "code",
   "execution_count": null,
   "metadata": {},
   "outputs": [],
   "source": []
  },
  {
   "cell_type": "code",
   "execution_count": null,
   "metadata": {},
   "outputs": [],
   "source": []
  }
 ],
 "metadata": {
  "kernelspec": {
   "display_name": "Python 3",
   "language": "python",
   "name": "python3"
  },
  "language_info": {
   "codemirror_mode": {
    "name": "ipython",
    "version": 3
   },
   "file_extension": ".py",
   "mimetype": "text/x-python",
   "name": "python",
   "nbconvert_exporter": "python",
   "pygments_lexer": "ipython3",
   "version": "3.6.6"
  }
 },
 "nbformat": 4,
 "nbformat_minor": 2
}
