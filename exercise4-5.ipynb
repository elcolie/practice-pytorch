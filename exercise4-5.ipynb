{
 "cells": [
  {
   "cell_type": "code",
   "execution_count": 141,
   "metadata": {},
   "outputs": [],
   "source": [
    "import torch\n",
    "from torch.autograd import Variable"
   ]
  },
  {
   "cell_type": "code",
   "execution_count": 146,
   "metadata": {},
   "outputs": [],
   "source": [
    "x_data = [1.0, 2.0 ,3.0]\n",
    "y_data = [2.0, 4.0, 6.0]\n",
    "w = torch.tensor([[1.0, 1.0]], requires_grad=True)\n",
    "b = 4.\n",
    "lr = 0.01"
   ]
  },
  {
   "cell_type": "code",
   "execution_count": 154,
   "metadata": {},
   "outputs": [],
   "source": [
    "def forward(x):\n",
    "    a = torch.tensor([[x * x], [x]], dtype=torch.float).view(-1, 2)\n",
    "    return torch.mm(a, w.view(2, -1)) + b\n",
    "def loss(x,y):\n",
    "    y_pred = forward(x)\n",
    "    return (y_pred - y) * (y_pred - y)"
   ]
  },
  {
   "cell_type": "code",
   "execution_count": 158,
   "metadata": {},
   "outputs": [
    {
     "name": "stdout",
     "output_type": "stream",
     "text": [
      "predict (before training), 4, tensor([[9.1345]], grad_fn=<AddBackward>)\n",
      "\tgrad: 1.0, 2.0, tensor([3.4586, 3.4586])\n",
      "\tgrad: 2.0, 4.0, tensor([2.2985, 1.1492])\n",
      "\tgrad: 3.0, 6.0, tensor([-6.4768, -2.1589])\n",
      "progress: 0, tensor([0.1295])\n",
      "\tgrad: 1.0, 2.0, tensor([3.4240, 3.4240])\n",
      "\tgrad: 2.0, 4.0, tensor([2.1536, 1.0768])\n",
      "\tgrad: 3.0, 6.0, tensor([-6.2847, -2.0949])\n",
      "progress: 1, tensor([0.1219])\n",
      "\tgrad: 1.0, 2.0, tensor([3.3901, 3.3901])\n",
      "\tgrad: 2.0, 4.0, tensor([2.0112, 1.0056])\n",
      "\tgrad: 3.0, 6.0, tensor([-6.0959, -2.0320])\n",
      "progress: 2, tensor([0.1147])\n",
      "\tgrad: 1.0, 2.0, tensor([3.3567, 3.3567])\n",
      "\tgrad: 2.0, 4.0, tensor([1.8713, 0.9357])\n",
      "\tgrad: 3.0, 6.0, tensor([-5.9105, -1.9702])\n",
      "progress: 3, tensor([0.1078])\n",
      "\tgrad: 1.0, 2.0, tensor([3.3239, 3.3239])\n",
      "\tgrad: 2.0, 4.0, tensor([1.7339, 0.8670])\n",
      "\tgrad: 3.0, 6.0, tensor([-5.7283, -1.9094])\n",
      "progress: 4, tensor([0.1013])\n",
      "\tgrad: 1.0, 2.0, tensor([3.2917, 3.2917])\n",
      "\tgrad: 2.0, 4.0, tensor([1.5989, 0.7994])\n",
      "\tgrad: 3.0, 6.0, tensor([-5.5493, -1.8498])\n",
      "progress: 5, tensor([0.0950])\n",
      "\tgrad: 1.0, 2.0, tensor([3.2600, 3.2600])\n",
      "\tgrad: 2.0, 4.0, tensor([1.4663, 0.7331])\n",
      "\tgrad: 3.0, 6.0, tensor([-5.3734, -1.7911])\n",
      "progress: 6, tensor([0.0891])\n",
      "\tgrad: 1.0, 2.0, tensor([3.2289, 3.2289])\n",
      "\tgrad: 2.0, 4.0, tensor([1.3360, 0.6680])\n",
      "\tgrad: 3.0, 6.0, tensor([-5.2007, -1.7336])\n",
      "progress: 7, tensor([0.0835])\n",
      "\tgrad: 1.0, 2.0, tensor([3.1984, 3.1984])\n",
      "\tgrad: 2.0, 4.0, tensor([1.2080, 0.6040])\n",
      "\tgrad: 3.0, 6.0, tensor([-5.0310, -1.6770])\n",
      "progress: 8, tensor([0.0781])\n",
      "\tgrad: 1.0, 2.0, tensor([3.1684, 3.1684])\n",
      "\tgrad: 2.0, 4.0, tensor([1.0822, 0.5411])\n",
      "\tgrad: 3.0, 6.0, tensor([-4.8642, -1.6214])\n",
      "progress: 9, tensor([0.0730])\n",
      "predict 4, tensor([9.2935])\n"
     ]
    }
   ],
   "source": [
    "# Predict before training\n",
    "print(f\"predict (before training), 4, {forward(4)}\")\n",
    "\n",
    "# Training loop\n",
    "for epoch in range(10):\n",
    "    for x_val, y_val in zip(x_data, y_data):\n",
    "        l = loss(x_val, y_val)\n",
    "        l.backward()\n",
    "        print(f\"\\tgrad: {x_val}, {y_val}, {w.grad.data[0]}\")\n",
    "        w.data = w.data - lr * w.grad.data\n",
    "        \n",
    "        w.grad.zero_()\n",
    "    print(f\"progress: {epoch}, {l.data[0]}\")\n",
    "        \n",
    "# After training\n",
    "print(f\"predict 4, {forward(4).data[0]}\")"
   ]
  },
  {
   "cell_type": "code",
   "execution_count": null,
   "metadata": {},
   "outputs": [],
   "source": []
  },
  {
   "cell_type": "code",
   "execution_count": null,
   "metadata": {},
   "outputs": [],
   "source": []
  }
 ],
 "metadata": {
  "kernelspec": {
   "display_name": "Python 3",
   "language": "python",
   "name": "python3"
  },
  "language_info": {
   "codemirror_mode": {
    "name": "ipython",
    "version": 3
   },
   "file_extension": ".py",
   "mimetype": "text/x-python",
   "name": "python",
   "nbconvert_exporter": "python",
   "pygments_lexer": "ipython3",
   "version": "3.6.6"
  }
 },
 "nbformat": 4,
 "nbformat_minor": 2
}
