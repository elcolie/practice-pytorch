{
 "cells": [
  {
   "cell_type": "markdown",
   "metadata": {},
   "source": [
    "Training CIFAR10 Classifier\n",
    "Follow the Sung Kim exercise by changing the `optimizers` not network!\n",
    "DPN network takes 7hrs with `p3.2xlarge`\n",
    "\n",
    "References:<br> \n",
    "https://www.youtube.com/watch?v=113b7O3mabY&list=PLlMkM4tgfjnJ3I-dbhO9JTw7gNty6o_2m&index=5<br>\n",
    "https://www.stefanfiott.com/machine-learning/cifar-10-classifier-using-cnn-in-pytorch/<br>\n",
    "git@github.com:kuangliu/pytorch-cifar.git"
   ]
  },
  {
   "cell_type": "code",
   "execution_count": 33,
   "metadata": {},
   "outputs": [],
   "source": [
    "import torch\n",
    "import torch.nn as nn\n",
    "import torchvision\n",
    "import torchvision.transforms as transforms\n",
    "import matplotlib.pyplot as plt\n",
    "import numpy as np"
   ]
  },
  {
   "cell_type": "code",
   "execution_count": 34,
   "metadata": {},
   "outputs": [],
   "source": [
    "# Define network\n",
    "class Net(nn.Module):\n",
    "    def __init__(self):\n",
    "        super().__init__()\n",
    "        self.conv1 = nn.Conv2d(3, 6, 5)\n",
    "        self.pool = nn.MaxPool2d(2, 2)\n",
    "        self.conv2 = nn.Conv2d(6, 16, 5)\n",
    "        self.fc1 = nn.Linear(16 * 5 * 5, 120)\n",
    "        self.fc2 = nn.Linear(120, 84)\n",
    "        self.fc3 = nn.Linear(84, 10)\n",
    "        \n",
    "    def forward(self, x):\n",
    "        x = self.pool(nn.functional.relu(self.conv1(x)))\n",
    "        x = self.pool(nn.functional.relu(self.conv2(x)))\n",
    "        x = x.view(-1, 16 * 5 * 5)\n",
    "        x = nn.functional.relu(self.fc1(x))\n",
    "        x = nn.functional.relu(self.fc2(x))\n",
    "        x = self.fc3(x)\n",
    "        return x        "
   ]
  },
  {
   "cell_type": "code",
   "execution_count": 35,
   "metadata": {},
   "outputs": [],
   "source": [
    "# Define a Loss function and optimizer\n",
    "net = Net()\n",
    "criterion = nn.CrossEntropyLoss()\n",
    "# optimizer = torch.optim.SGD(net.parameters(), lr=0.001, momentum=0.9)\n",
    "# optimizer = torch.optim.Rprop(net.parameters(), lr=0.001)\n",
    "optimizer = torch.optim.RMSprop(net.parameters(), lr=0.001)# best one\n",
    "# optimizer = torch.optim.ASGD(net.parameters(), lr=0.001)\n",
    "# optimizer = torch.optim.Adagrad(net.parameters(), lr=0.001)"
   ]
  },
  {
   "cell_type": "code",
   "execution_count": 23,
   "metadata": {},
   "outputs": [
    {
     "name": "stdout",
     "output_type": "stream",
     "text": [
      "Files already downloaded and verified\n",
      "Files already downloaded and verified\n"
     ]
    }
   ],
   "source": [
    "# Net model Sung Kim, Official docs\n",
    "transform = transforms.Compose(\n",
    "    [transforms.ToTensor(),\n",
    "     transforms.Normalize((0.5, 0.5, 0.5), (0.5, 0.5, 0.5))])\n",
    "\n",
    "trainset = torchvision.datasets.CIFAR10(root='./cifar-10-classifier/traing_data/', \n",
    "                                        train=True,\n",
    "                                        download=True, \n",
    "                                        transform=transform)\n",
    "trainloader = torch.utils.data.DataLoader(trainset, \n",
    "                                          batch_size=4,\n",
    "                                          shuffle=True)\n",
    "\n",
    "testset = torchvision.datasets.CIFAR10(root='./cifar-10-classifier/testing_data', \n",
    "                                       train=False,\n",
    "                                       download=True, \n",
    "                                       transform=transform)\n",
    "testloader = torch.utils.data.DataLoader(testset, \n",
    "                                         batch_size=4,\n",
    "                                         shuffle=False)\n",
    "\n",
    "classes = ('plane', 'car', 'bird', 'cat', 'deer', \n",
    "           'dog', 'frog', 'horse', 'ship', 'truck')"
   ]
  },
  {
   "cell_type": "code",
   "execution_count": 36,
   "metadata": {},
   "outputs": [
    {
     "name": "stdout",
     "output_type": "stream",
     "text": [
      "1, 2000, 1.8543944607377052\n",
      "1, 4000, 1.603652361229062\n",
      "1, 6000, 1.528085955247283\n",
      "1, 8000, 1.4681542510390282\n",
      "1, 10000, 1.46179886084795\n",
      "1, 12000, 1.4098220385462046\n",
      "2, 2000, 1.35464448081702\n",
      "2, 4000, 1.3510149261020123\n",
      "2, 6000, 1.3524481324665247\n",
      "2, 8000, 1.324898198839277\n",
      "2, 10000, 1.3212777344360949\n",
      "2, 12000, 1.3152193854302168\n",
      "Finished Training\n",
      "Saved model parameters to disk\n"
     ]
    }
   ],
   "source": [
    "# Train the network\n",
    "import os\n",
    "model_directory_path = '/home/jovyan/work/cifar-10-classifier/model/'\n",
    "model_path = model_directory_path + 'cifar-10-cnn-model.pt'\n",
    "\n",
    "if not os.path.exists(model_path):\n",
    "    os.makedirs(model_directory_path)\n",
    "\n",
    "if os.path.isfile(model_path):\n",
    "    net.load_state_dict(torch.load(model_path))\n",
    "    print(f\"Loaded model parameters from disk.\")\n",
    "else:\n",
    "    for epoch in range(2):\n",
    "        running_loss = 0\n",
    "        for i, data in enumerate(trainloader, 0):\n",
    "            inputs, labels = data\n",
    "\n",
    "            # Computer loss\n",
    "            outputs = net(inputs)\n",
    "            loss = criterion(outputs, labels)\n",
    "\n",
    "            # Zero gradients, perform a backward pass, and update the weights\n",
    "            optimizer.zero_grad()\n",
    "            loss.backward()\n",
    "            optimizer.step()\n",
    "            \n",
    "            running_loss += loss.item()\n",
    "            if i % 2000 == 1999:\n",
    "                print(f\"{epoch + 1}, {i+1}, {running_loss/2000}\")\n",
    "                running_loss = 0.0\n",
    "    print(f\"Finished Training\")\n",
    "    torch.save(net.state_dict(), model_path)\n",
    "    print(f\"Saved model parameters to disk\")"
   ]
  },
  {
   "cell_type": "code",
   "execution_count": 16,
   "metadata": {},
   "outputs": [],
   "source": [
    "def convert_to_imshow_format(image):\n",
    "    # first convert back to [0,1] range from [-1,1] range\n",
    "    image = image / 2 + 0.5\n",
    "    image = image.numpy()\n",
    "    # convert from CHW to HWC\n",
    "    # from 3x32x32 to 32x32x3\n",
    "    return image.transpose(1,2,0)"
   ]
  },
  {
   "cell_type": "code",
   "execution_count": 17,
   "metadata": {},
   "outputs": [
    {
     "data": {
      "image/png": "[encoded data removed]",
      "text/plain": [
       "<Figure size 864x180 with 4 Axes>"
      ]
     },
     "metadata": {},
     "output_type": "display_data"
    }
   ],
   "source": [
    "# Show the images\n",
    "dataiter = iter(testloader)\n",
    "images, labels = dataiter.next()\n",
    "\n",
    "fig, axes = plt.subplots(1, len(images), figsize=(12,2.5))\n",
    "for idx, image in enumerate(images):\n",
    "    axes[idx].imshow(convert_to_imshow_format(image))\n",
    "    axes[idx].set_title(classes[labels[idx]])\n",
    "    axes[idx].set_xticks([])\n",
    "    axes[idx].set_yticks([])\n"
   ]
  },
  {
   "cell_type": "code",
   "execution_count": 37,
   "metadata": {},
   "outputs": [
    {
     "name": "stdout",
     "output_type": "stream",
     "text": [
      "Model accuracy on 10000 test images: 52.95%\n"
     ]
    }
   ],
   "source": [
    "# Test the network and construct the confusion matrix\n",
    "total_correct = 0\n",
    "total_images = 0\n",
    "confusion_matrix = np.zeros([10,10], int)\n",
    "with torch.no_grad():\n",
    "    for data in testloader:\n",
    "        images, labels = data\n",
    "        outputs = net(images)\n",
    "        _, predicted = torch.max(outputs.data, 1)\n",
    "        total_images += labels.size(0)\n",
    "        total_correct += (predicted == labels).sum().item()\n",
    "        for i, l in enumerate(labels):\n",
    "            confusion_matrix[l.item(), predicted[i].item()] += 1 \n",
    "\n",
    "model_accuracy = total_correct / total_images * 100\n",
    "print('Model accuracy on {0} test images: {1:.2f}%'.format(total_images, model_accuracy))"
   ]
  },
  {
   "cell_type": "code",
   "execution_count": 38,
   "metadata": {},
   "outputs": [
    {
     "name": "stdout",
     "output_type": "stream",
     "text": [
      "Category   - Accuracy\n",
      "plane      - 59.8\n",
      "car        - 71.9\n",
      "bird       - 54.0\n",
      "cat        - 26.9\n",
      "deer       - 32.9\n",
      "dog        - 41.9\n",
      "frog       - 72.7\n",
      "horse      - 57.3\n",
      "ship       - 63.4\n",
      "truck      - 48.7\n"
     ]
    }
   ],
   "source": [
    "print('{0:10s} - {1}'.format('Category','Accuracy'))\n",
    "for i, r in enumerate(confusion_matrix):\n",
    "    print('{0:10s} - {1:.1f}'.format(classes[i], r[i]/np.sum(r)*100))"
   ]
  },
  {
   "cell_type": "markdown",
   "metadata": {},
   "source": [
    "SGD<br>\n",
    "Category   - Accuracy<br>\n",
    "plane      - 43.1<br>\n",
    "car        - 51.4<br>\n",
    "bird       - 43.1<br>\n",
    "cat        - 50.2<br>\n",
    "deer       - 30.6<br>\n",
    "dog        - 33.0<br>\n",
    "frog       - 81.6<br>\n",
    "horse      - 51.4<br>\n",
    "ship       - 84.2<br>\n",
    "truck      - 63.4<br>"
   ]
  },
  {
   "cell_type": "markdown",
   "metadata": {},
   "source": [
    "Rprop<br>\n",
    "Category   - Accuracy<br>\n",
    "plane      - 38.0<br>\n",
    "car        - 20.1<br>\n",
    "bird       - 51.9<br>\n",
    "cat        - 8.4<br>\n",
    "deer       - 0.4<br>\n",
    "dog        - 2.9<br>\n",
    "frog       - 18.5<br>\n",
    "horse      - 33.5<br>\n",
    "ship       - 15.4<br>\n",
    "truck      - 26.6<br>"
   ]
  },
  {
   "cell_type": "markdown",
   "metadata": {},
   "source": [
    "RMSprop<br>\n",
    "Category   - Accuracy<br>\n",
    "plane      - 64.0<br>\n",
    "car        - 64.0<br>\n",
    "bird       - 57.8<br>\n",
    "cat        - 25.3<br>\n",
    "deer       - 35.9<br>\n",
    "dog        - 56.1<br>\n",
    "frog       - 70.2<br>\n",
    "horse      - 53.6<br>\n",
    "ship       - 70.8<br>\n",
    "truck      - 54.7"
   ]
  },
  {
   "cell_type": "markdown",
   "metadata": {},
   "source": [
    "ASGD<br>\n",
    "Category   - Accuracy<br>\n",
    "plane      - 46.8<br>\n",
    "car        - 32.4<br>\n",
    "bird       - 8.9<br>\n",
    "cat        - 24.2<br>\n",
    "deer       - 18.3<br>\n",
    "dog        - 17.0<br>\n",
    "frog       - 63.1<br>\n",
    "horse      - 53.8<br>\n",
    "ship       - 29.4<br>\n",
    "truck      - 57.6"
   ]
  },
  {
   "cell_type": "markdown",
   "metadata": {},
   "source": [
    "Adamax<br>\n",
    "Category   - Accuracy<br>\n",
    "plane      - 57.6<br>\n",
    "car        - 78.2<br>\n",
    "bird       - 35.1<br>\n",
    "cat        - 36.2<br>\n",
    "deer       - 38.4<br>\n",
    "dog        - 37.8<br>\n",
    "frog       - 68.8<br>\n",
    "horse      - 71.6<br>\n",
    "ship       - 58.8<br>\n",
    "truck      - 58.4"
   ]
  },
  {
   "cell_type": "markdown",
   "metadata": {},
   "source": [
    "Adagrad<br>\n",
    "plane      - 49.5<br>\n",
    "car        - 36.8<br>\n",
    "bird       - 13.4<br>\n",
    "cat        - 16.5<br>\n",
    "deer       - 20.4<br>\n",
    "dog        - 41.9<br>\n",
    "frog       - 59.8<br>\n",
    "horse      - 37.6<br>\n",
    "ship       - 45.6<br>\n",
    "truck      - 51.4"
   ]
  },
  {
   "cell_type": "code",
   "execution_count": 10,
   "metadata": {},
   "outputs": [
    {
     "data": {
      "image/png": "[encoded data removed]",
      "text/plain": [
       "<Figure size 576x432 with 1 Axes>"
      ]
     },
     "metadata": {
      "needs_background": "light"
     },
     "output_type": "display_data"
    }
   ],
   "source": [
    "fig, ax = plt.subplots(1,1,figsize=(8,6))\n",
    "ax.matshow(confusion_matrix, aspect='auto', vmin=0, vmax=1000, cmap=plt.get_cmap('Blues'))\n",
    "plt.ylabel('Actual Category')\n",
    "plt.yticks(range(10), classes)\n",
    "plt.xlabel('Predicted Category')\n",
    "plt.xticks(range(10), classes)\n",
    "plt.show()"
   ]
  },
  {
   "cell_type": "code",
   "execution_count": null,
   "metadata": {},
   "outputs": [],
   "source": []
  }
 ],
 "metadata": {
  "kernelspec": {
   "display_name": "Python 3",
   "language": "python",
   "name": "python3"
  },
  "language_info": {
   "codemirror_mode": {
    "name": "ipython",
    "version": 3
   },
   "file_extension": ".py",
   "mimetype": "text/x-python",
   "name": "python",
   "nbconvert_exporter": "python",
   "pygments_lexer": "ipython3",
   "version": "3.6.6"
  }
 },
 "nbformat": 4,
 "nbformat_minor": 2
}
